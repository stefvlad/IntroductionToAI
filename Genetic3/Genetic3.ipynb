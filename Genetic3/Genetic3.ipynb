{
  "cells": [
    {
      "cell_type": "markdown",
      "metadata": {
        "id": "0smoWI3Zo4xd"
      },
      "source": [
        "---\n",
        "\n",
        "# **1. Init**\n",
        "\n",
        "---"
      ]
    },
    {
      "cell_type": "code",
      "execution_count": 260,
      "metadata": {
        "id": "MhhuN9SK3Uq3"
      },
      "outputs": [],
      "source": [
        "import numpy as np\n",
        "import random\n",
        "import math"
      ]
    },
    {
      "cell_type": "code",
      "execution_count": 261,
      "metadata": {
        "id": "QTP7L2-maaR4"
      },
      "outputs": [],
      "source": [
        "from tensorflow.keras import layers\n",
        "from tensorflow.keras import models\n",
        "from tensorflow import keras"
      ]
    },
    {
      "cell_type": "code",
      "execution_count": 262,
      "metadata": {
        "id": "sr8wp7To7IaN"
      },
      "outputs": [],
      "source": [
        "def generate_random_binary_string(length):\n",
        "  binary_string = \"\"\n",
        "\n",
        "  for i in range(length):\n",
        "    binary_string += str(random.randint(0,1))\n",
        "\n",
        "  return binary_string"
      ]
    },
    {
      "cell_type": "markdown",
      "metadata": {
        "id": "8Mz2M2bO75i8"
      },
      "source": [
        "---\n",
        "\n",
        "# **2. Generating very first population**\n",
        "\n",
        "---"
      ]
    },
    {
      "cell_type": "code",
      "execution_count": 263,
      "metadata": {
        "id": "HKPGY0Hp3o7I",
        "colab": {
          "base_uri": "https://localhost:8080/"
        },
        "outputId": "1e597ee0-771e-40a6-986f-2699d27114d9"
      },
      "outputs": [
        {
          "output_type": "stream",
          "name": "stdout",
          "text": [
            "['111010', '110110', '100011', '001100', '010111', '100101']\n",
            "[58, 54, 35, 12, 23, 37]\n",
            "{58: '111010', 54: '110110', 35: '100011', 12: '001100', 23: '010111', 37: '100101'}\n"
          ]
        }
      ],
      "source": [
        "chromosome_length = 6\n",
        "\n",
        "map = {}\n",
        "\n",
        "first_population_integers = []\n",
        "first_population_strings = []\n",
        "\n",
        "for i in range(6):\n",
        "  first_population_strings.append(generate_random_binary_string(chromosome_length))\n",
        "  first_population_integers.append(int(first_population_strings[i], 2))\n",
        "\n",
        "for i in range(6):\n",
        "  map[first_population_integers[i]] = first_population_strings[i]\n",
        "\n",
        "print(first_population_strings)\n",
        "print(first_population_integers)\n",
        "print(map)"
      ]
    },
    {
      "cell_type": "markdown",
      "metadata": {
        "id": "hIHIrN_IajeF"
      },
      "source": [
        "---\n",
        "\n",
        "# **3. Models configuration**\n",
        "\n",
        "---"
      ]
    },
    {
      "cell_type": "code",
      "execution_count": 264,
      "metadata": {
        "id": "b-1BI26we-TC"
      },
      "outputs": [],
      "source": [
        "model_1 = models.Sequential()\n",
        "\n",
        "if first_population_integers[0] != 0:\n",
        "  model_1.add(layers.Dense(first_population_integers[0], activation='relu', name='hidden', input_dim=64))\n",
        "  model_1.add(layers.Dense(10, activation='softmax', name='output'))\n",
        "else:\n",
        "  model_1.add(layers.Dense(10, activation='softmax', name='output', input_dim=64))\n",
        "\n",
        "# for multi-class classification problem\n",
        "model_1.compile(optimizer='rmsprop', loss='categorical_crossentropy', metrics=['accuracy'])"
      ]
    },
    {
      "cell_type": "code",
      "execution_count": 265,
      "metadata": {
        "id": "cHSC-IFyfbTh",
        "colab": {
          "base_uri": "https://localhost:8080/"
        },
        "outputId": "b46873f0-220f-452c-943d-949f4756a6a7"
      },
      "outputs": [
        {
          "output_type": "stream",
          "name": "stdout",
          "text": [
            "Model: \"sequential_168\"\n",
            "_________________________________________________________________\n",
            " Layer (type)                Output Shape              Param #   \n",
            "=================================================================\n",
            " hidden (Dense)              (None, 58)                3770      \n",
            "                                                                 \n",
            " output (Dense)              (None, 10)                590       \n",
            "                                                                 \n",
            "=================================================================\n",
            "Total params: 4,360\n",
            "Trainable params: 4,360\n",
            "Non-trainable params: 0\n",
            "_________________________________________________________________\n"
          ]
        }
      ],
      "source": [
        "model_1.summary() # hidden 128 * 64 + 128 biases"
      ]
    },
    {
      "cell_type": "code",
      "execution_count": 266,
      "metadata": {
        "id": "-kwOtwPBrsKw",
        "colab": {
          "base_uri": "https://localhost:8080/",
          "height": 312
        },
        "outputId": "b2722ff6-91cd-4998-9c59-c36440d4fe69"
      },
      "outputs": [
        {
          "output_type": "execute_result",
          "data": {
            "text/plain": [
              "<IPython.core.display.Image object>"
            ],
            "image/png": "[encoded data removed]"
          },
          "metadata": {},
          "execution_count": 266
        }
      ],
      "source": [
        "from tensorflow.keras.utils import plot_model\n",
        "\n",
        "plot_model(model_1, show_shapes=True, show_layer_activations=True)"
      ]
    },
    {
      "cell_type": "code",
      "execution_count": 267,
      "metadata": {
        "id": "RocJq6Nb5jSa"
      },
      "outputs": [],
      "source": [
        "model_2 = models.Sequential()\n",
        "\n",
        "if first_population_integers[1] != 0:\n",
        "  model_2.add(layers.Dense(first_population_integers[1], activation='relu', name='hidden', input_dim=64))\n",
        "  model_2.add(layers.Dense(10, activation='softmax', name='output'))\n",
        "else:\n",
        "  model_2.add(layers.Dense(10, activation='softmax', name='output', input_dim=64))\n",
        "\n",
        "model_2.compile(optimizer='rmsprop', loss='categorical_crossentropy', metrics=['accuracy'])"
      ]
    },
    {
      "cell_type": "code",
      "execution_count": 268,
      "metadata": {
        "id": "2yPuSie05mGm"
      },
      "outputs": [],
      "source": [
        "model_3 = models.Sequential()\n",
        "\n",
        "if first_population_integers[2] != 0:\n",
        "  model_3.add(layers.Dense(first_population_integers[2], activation='relu', name='hidden', input_dim=64))\n",
        "  model_3.add(layers.Dense(10, activation='softmax', name='output'))\n",
        "else:\n",
        "  model_3.add(layers.Dense(10, activation='softmax', name='output', input_dim=64))\n",
        "\n",
        "model_3.compile(optimizer='rmsprop', loss='categorical_crossentropy', metrics=['accuracy'])"
      ]
    },
    {
      "cell_type": "code",
      "execution_count": 269,
      "metadata": {
        "id": "8l-gbtKf5npR"
      },
      "outputs": [],
      "source": [
        "model_4 = models.Sequential()\n",
        "\n",
        "if first_population_integers[3] != 0:\n",
        "  model_4.add(layers.Dense(first_population_integers[3], activation='relu', name='hidden', input_dim=64))\n",
        "  model_4.add(layers.Dense(10, activation='softmax', name='output'))\n",
        "else:\n",
        "  model_4.add(layers.Dense(10, activation='softmax', name='output', input_dim=64))\n",
        "\n",
        "model_4.compile(optimizer='rmsprop', loss='categorical_crossentropy', metrics=['accuracy'])"
      ]
    },
    {
      "cell_type": "code",
      "execution_count": 270,
      "metadata": {
        "id": "OGOnXfJ65phq"
      },
      "outputs": [],
      "source": [
        "model_5 = models.Sequential()\n",
        "\n",
        "if first_population_integers[4] != 0:\n",
        "  model_5.add(layers.Dense(first_population_integers[4], activation='relu', name='hidden', input_dim=64))\n",
        "  model_5.add(layers.Dense(10, activation='softmax', name='output'))\n",
        "else:\n",
        "  model_5.add(layers.Dense(10, activation='softmax', name='output', input_dim=64))\n",
        "\n",
        "model_5.compile(optimizer='rmsprop', loss='categorical_crossentropy', metrics=['accuracy'])"
      ]
    },
    {
      "cell_type": "code",
      "execution_count": 271,
      "metadata": {
        "id": "-j0eCOUY5rr4"
      },
      "outputs": [],
      "source": [
        "model_6 = models.Sequential()\n",
        "\n",
        "if first_population_integers[5] != 0:\n",
        "  model_6.add(layers.Dense(first_population_integers[5], activation='relu', name='hidden', input_dim=64))\n",
        "  model_6.add(layers.Dense(10, activation='softmax', name='output'))\n",
        "else:\n",
        "  model_6.add(layers.Dense(10, activation='softmax', name='output', input_dim=64))\n",
        "\n",
        "model_6.compile(optimizer='rmsprop', loss='categorical_crossentropy', metrics=['accuracy'])"
      ]
    },
    {
      "cell_type": "markdown",
      "metadata": {
        "id": "GUDmWAGgpHwB"
      },
      "source": [
        "---\n",
        "\n",
        "# **4. Downloading dataset -> preprocessing**\n",
        "\n",
        "---"
      ]
    },
    {
      "cell_type": "code",
      "execution_count": 272,
      "metadata": {
        "id": "7Xx1MFMspVbi"
      },
      "outputs": [],
      "source": [
        "from sklearn.datasets import load_digits"
      ]
    },
    {
      "cell_type": "code",
      "execution_count": 273,
      "metadata": {
        "id": "zNIzjlSlpccz",
        "colab": {
          "base_uri": "https://localhost:8080/"
        },
        "outputId": "2d525f7e-def1-4f43-d227-816d34629643"
      },
      "outputs": [
        {
          "output_type": "stream",
          "name": "stdout",
          "text": [
            "(1797, 64)\n"
          ]
        }
      ],
      "source": [
        "input, targets = load_digits(return_X_y=True)\n",
        "\n",
        "print(input.shape)"
      ]
    },
    {
      "cell_type": "code",
      "execution_count": 274,
      "metadata": {
        "id": "c2goT-vHpn_S"
      },
      "outputs": [],
      "source": [
        "from sklearn.preprocessing import MinMaxScaler"
      ]
    },
    {
      "cell_type": "code",
      "execution_count": 275,
      "metadata": {
        "id": "TGpCtKCHpseV",
        "colab": {
          "base_uri": "https://localhost:8080/"
        },
        "outputId": "ecdc55de-514f-4412-d499-3f1379fb10fc"
      },
      "outputs": [
        {
          "output_type": "execute_result",
          "data": {
            "text/plain": [
              "array([[0.    , 0.    , 0.3125, ..., 0.    , 0.    , 0.    ],\n",
              "       [0.    , 0.    , 0.    , ..., 0.625 , 0.    , 0.    ],\n",
              "       [0.    , 0.    , 0.    , ..., 1.    , 0.5625, 0.    ],\n",
              "       ...,\n",
              "       [0.    , 0.    , 0.0625, ..., 0.375 , 0.    , 0.    ],\n",
              "       [0.    , 0.    , 0.125 , ..., 0.75  , 0.    , 0.    ],\n",
              "       [0.    , 0.    , 0.625 , ..., 0.75  , 0.0625, 0.    ]])"
            ]
          },
          "metadata": {},
          "execution_count": 275
        }
      ],
      "source": [
        "MinMaxScaler(copy=False).fit_transform(input)"
      ]
    },
    {
      "cell_type": "code",
      "execution_count": 276,
      "metadata": {
        "id": "J0aixZGFrAlo",
        "colab": {
          "base_uri": "https://localhost:8080/"
        },
        "outputId": "6f7c077c-dca3-4a9d-a1e9-674393f70ef3"
      },
      "outputs": [
        {
          "output_type": "execute_result",
          "data": {
            "text/plain": [
              "array([[1., 0., 0., ..., 0., 0., 0.],\n",
              "       [0., 1., 0., ..., 0., 0., 0.],\n",
              "       [0., 0., 1., ..., 0., 0., 0.],\n",
              "       ...,\n",
              "       [0., 0., 0., ..., 0., 1., 0.],\n",
              "       [0., 0., 0., ..., 0., 0., 1.],\n",
              "       [0., 0., 0., ..., 0., 1., 0.]], dtype=float32)"
            ]
          },
          "metadata": {},
          "execution_count": 276
        }
      ],
      "source": [
        "from tensorflow.keras.utils import to_categorical\n",
        "\n",
        "targets = to_categorical(targets) # for instance -> [0,1,0,0,0,0,0,0,0,0] -> number 1 and so on...\n",
        "\n",
        "targets"
      ]
    },
    {
      "cell_type": "markdown",
      "metadata": {
        "id": "pRIFF6QWr9f2"
      },
      "source": [
        "---\n",
        "\n",
        "# **5. Dividing dataset into train and test** \n",
        "\n",
        "---"
      ]
    },
    {
      "cell_type": "code",
      "execution_count": 277,
      "metadata": {
        "id": "IQOkZlJzr7NA"
      },
      "outputs": [],
      "source": [
        "from sklearn.model_selection import train_test_split"
      ]
    },
    {
      "cell_type": "code",
      "execution_count": 278,
      "metadata": {
        "id": "7SsAKYw-sU35",
        "colab": {
          "base_uri": "https://localhost:8080/"
        },
        "outputId": "f56da366-c50d-4655-c5ce-d753d55e14b9"
      },
      "outputs": [
        {
          "output_type": "execute_result",
          "data": {
            "text/plain": [
              "((1347, 64), (450, 64), (1347, 10), (450, 10))"
            ]
          },
          "metadata": {},
          "execution_count": 278
        }
      ],
      "source": [
        "input_train, input_test, targets_train, targets_test = train_test_split(input, targets, test_size=0.25, stratify=targets, random_state=42)\n",
        "\n",
        "input_train.shape, input_test.shape, targets_train.shape, targets_test.shape"
      ]
    },
    {
      "cell_type": "markdown",
      "metadata": {
        "id": "AVcz-JOetEvB"
      },
      "source": [
        "---\n",
        "\n",
        "# **6. Fit models**\n",
        "\n",
        "---"
      ]
    },
    {
      "cell_type": "code",
      "execution_count": 279,
      "metadata": {
        "id": "g6sJKhz54W1R"
      },
      "outputs": [],
      "source": [
        "n_epochs = 15"
      ]
    },
    {
      "cell_type": "code",
      "execution_count": 280,
      "metadata": {
        "id": "zZbki4Zq48uK",
        "colab": {
          "base_uri": "https://localhost:8080/"
        },
        "outputId": "a57f93d6-ef49-42ff-80ee-8a9a07a25038"
      },
      "outputs": [
        {
          "output_type": "stream",
          "name": "stdout",
          "text": [
            "Epoch 1/15\n",
            "43/43 [==============================] - 1s 7ms/step - loss: 1.9341 - accuracy: 0.4722 - val_loss: 1.6196 - val_accuracy: 0.7489\n",
            "Epoch 2/15\n",
            "43/43 [==============================] - 0s 3ms/step - loss: 1.4138 - accuracy: 0.8174 - val_loss: 1.1838 - val_accuracy: 0.8289\n",
            "Epoch 3/15\n",
            "43/43 [==============================] - 0s 3ms/step - loss: 1.0265 - accuracy: 0.8738 - val_loss: 0.8621 - val_accuracy: 0.8711\n",
            "Epoch 4/15\n",
            "43/43 [==============================] - 0s 3ms/step - loss: 0.7441 - accuracy: 0.8968 - val_loss: 0.6424 - val_accuracy: 0.8911\n",
            "Epoch 5/15\n",
            "43/43 [==============================] - 0s 5ms/step - loss: 0.5615 - accuracy: 0.9161 - val_loss: 0.5081 - val_accuracy: 0.8933\n",
            "Epoch 6/15\n",
            "43/43 [==============================] - 0s 3ms/step - loss: 0.4391 - accuracy: 0.9280 - val_loss: 0.4078 - val_accuracy: 0.9222\n",
            "Epoch 7/15\n",
            "43/43 [==============================] - 0s 3ms/step - loss: 0.3538 - accuracy: 0.9347 - val_loss: 0.3555 - val_accuracy: 0.9289\n",
            "Epoch 8/15\n",
            "43/43 [==============================] - 0s 3ms/step - loss: 0.3007 - accuracy: 0.9451 - val_loss: 0.3149 - val_accuracy: 0.9133\n",
            "Epoch 9/15\n",
            "43/43 [==============================] - 0s 3ms/step - loss: 0.2617 - accuracy: 0.9525 - val_loss: 0.2736 - val_accuracy: 0.9289\n",
            "Epoch 10/15\n",
            "43/43 [==============================] - 0s 3ms/step - loss: 0.2280 - accuracy: 0.9569 - val_loss: 0.2519 - val_accuracy: 0.9467\n",
            "Epoch 11/15\n",
            "43/43 [==============================] - 0s 3ms/step - loss: 0.2045 - accuracy: 0.9584 - val_loss: 0.2353 - val_accuracy: 0.9356\n",
            "Epoch 12/15\n",
            "43/43 [==============================] - 0s 4ms/step - loss: 0.1851 - accuracy: 0.9681 - val_loss: 0.2130 - val_accuracy: 0.9511\n",
            "Epoch 13/15\n",
            "43/43 [==============================] - 0s 3ms/step - loss: 0.1697 - accuracy: 0.9651 - val_loss: 0.1968 - val_accuracy: 0.9511\n",
            "Epoch 14/15\n",
            "43/43 [==============================] - 0s 3ms/step - loss: 0.1556 - accuracy: 0.9733 - val_loss: 0.1821 - val_accuracy: 0.9600\n",
            "Epoch 15/15\n",
            "43/43 [==============================] - 0s 3ms/step - loss: 0.1428 - accuracy: 0.9725 - val_loss: 0.1843 - val_accuracy: 0.9511\n"
          ]
        }
      ],
      "source": [
        "fit_1 = model_1.fit(input_train, targets_train, epochs=n_epochs, validation_data=(input_test, targets_test))"
      ]
    },
    {
      "cell_type": "code",
      "execution_count": 281,
      "metadata": {
        "colab": {
          "base_uri": "https://localhost:8080/"
        },
        "id": "Ix3jKt9l4_D5",
        "outputId": "8d70e14f-70ed-49c0-b918-9ca44f0b0bec"
      },
      "outputs": [
        {
          "output_type": "stream",
          "name": "stdout",
          "text": [
            "Epoch 1/15\n",
            "43/43 [==============================] - 1s 8ms/step - loss: 2.0366 - accuracy: 0.3794 - val_loss: 1.7524 - val_accuracy: 0.6133\n",
            "Epoch 2/15\n",
            "43/43 [==============================] - 0s 3ms/step - loss: 1.5382 - accuracy: 0.7186 - val_loss: 1.3240 - val_accuracy: 0.8200\n",
            "Epoch 3/15\n",
            "43/43 [==============================] - 0s 3ms/step - loss: 1.1477 - accuracy: 0.8263 - val_loss: 1.0042 - val_accuracy: 0.8200\n",
            "Epoch 4/15\n",
            "43/43 [==============================] - 0s 4ms/step - loss: 0.8518 - accuracy: 0.8738 - val_loss: 0.7528 - val_accuracy: 0.8778\n",
            "Epoch 5/15\n",
            "43/43 [==============================] - 0s 3ms/step - loss: 0.6421 - accuracy: 0.8968 - val_loss: 0.5810 - val_accuracy: 0.8933\n",
            "Epoch 6/15\n",
            "43/43 [==============================] - 0s 3ms/step - loss: 0.4936 - accuracy: 0.9117 - val_loss: 0.4637 - val_accuracy: 0.9133\n",
            "Epoch 7/15\n",
            "43/43 [==============================] - 0s 3ms/step - loss: 0.3953 - accuracy: 0.9317 - val_loss: 0.3930 - val_accuracy: 0.9089\n",
            "Epoch 8/15\n",
            "43/43 [==============================] - 0s 3ms/step - loss: 0.3269 - accuracy: 0.9480 - val_loss: 0.3333 - val_accuracy: 0.9244\n",
            "Epoch 9/15\n",
            "43/43 [==============================] - 0s 3ms/step - loss: 0.2785 - accuracy: 0.9495 - val_loss: 0.2952 - val_accuracy: 0.9311\n",
            "Epoch 10/15\n",
            "43/43 [==============================] - 0s 4ms/step - loss: 0.2415 - accuracy: 0.9547 - val_loss: 0.2648 - val_accuracy: 0.9333\n",
            "Epoch 11/15\n",
            "43/43 [==============================] - 0s 3ms/step - loss: 0.2142 - accuracy: 0.9607 - val_loss: 0.2415 - val_accuracy: 0.9333\n",
            "Epoch 12/15\n",
            "43/43 [==============================] - 0s 4ms/step - loss: 0.1905 - accuracy: 0.9607 - val_loss: 0.2237 - val_accuracy: 0.9333\n",
            "Epoch 13/15\n",
            "43/43 [==============================] - 0s 3ms/step - loss: 0.1735 - accuracy: 0.9666 - val_loss: 0.2100 - val_accuracy: 0.9333\n",
            "Epoch 14/15\n",
            "43/43 [==============================] - 0s 3ms/step - loss: 0.1571 - accuracy: 0.9688 - val_loss: 0.1942 - val_accuracy: 0.9444\n",
            "Epoch 15/15\n",
            "43/43 [==============================] - 0s 3ms/step - loss: 0.1451 - accuracy: 0.9710 - val_loss: 0.1981 - val_accuracy: 0.9378\n"
          ]
        }
      ],
      "source": [
        "fit_2 = model_2.fit(input_train, targets_train, epochs=n_epochs, validation_data=(input_test, targets_test))"
      ]
    },
    {
      "cell_type": "code",
      "execution_count": 282,
      "metadata": {
        "id": "SXPC8v9m5BEC",
        "colab": {
          "base_uri": "https://localhost:8080/"
        },
        "outputId": "5365ec01-e2a0-49f0-820a-e8a25d8674e1"
      },
      "outputs": [
        {
          "output_type": "stream",
          "name": "stdout",
          "text": [
            "Epoch 1/15\n",
            "43/43 [==============================] - 1s 7ms/step - loss: 2.1833 - accuracy: 0.2146 - val_loss: 1.9616 - val_accuracy: 0.4378\n",
            "Epoch 2/15\n",
            "43/43 [==============================] - 0s 3ms/step - loss: 1.8008 - accuracy: 0.6036 - val_loss: 1.6314 - val_accuracy: 0.6600\n",
            "Epoch 3/15\n",
            "43/43 [==============================] - 0s 3ms/step - loss: 1.4632 - accuracy: 0.7454 - val_loss: 1.3040 - val_accuracy: 0.7711\n",
            "Epoch 4/15\n",
            "43/43 [==============================] - 0s 3ms/step - loss: 1.1598 - accuracy: 0.8166 - val_loss: 1.0271 - val_accuracy: 0.8111\n",
            "Epoch 5/15\n",
            "43/43 [==============================] - 0s 3ms/step - loss: 0.9126 - accuracy: 0.8567 - val_loss: 0.8272 - val_accuracy: 0.8422\n",
            "Epoch 6/15\n",
            "43/43 [==============================] - 0s 4ms/step - loss: 0.7334 - accuracy: 0.8857 - val_loss: 0.6698 - val_accuracy: 0.8889\n",
            "Epoch 7/15\n",
            "43/43 [==============================] - 0s 3ms/step - loss: 0.5981 - accuracy: 0.9035 - val_loss: 0.5561 - val_accuracy: 0.8978\n",
            "Epoch 8/15\n",
            "43/43 [==============================] - 0s 3ms/step - loss: 0.4942 - accuracy: 0.9094 - val_loss: 0.4679 - val_accuracy: 0.9156\n",
            "Epoch 9/15\n",
            "43/43 [==============================] - 0s 4ms/step - loss: 0.4170 - accuracy: 0.9206 - val_loss: 0.4057 - val_accuracy: 0.9156\n",
            "Epoch 10/15\n",
            "43/43 [==============================] - 0s 3ms/step - loss: 0.3581 - accuracy: 0.9376 - val_loss: 0.3566 - val_accuracy: 0.9244\n",
            "Epoch 11/15\n",
            "43/43 [==============================] - 0s 3ms/step - loss: 0.3124 - accuracy: 0.9451 - val_loss: 0.3185 - val_accuracy: 0.9400\n",
            "Epoch 12/15\n",
            "43/43 [==============================] - 0s 4ms/step - loss: 0.2760 - accuracy: 0.9465 - val_loss: 0.2871 - val_accuracy: 0.9311\n",
            "Epoch 13/15\n",
            "43/43 [==============================] - 0s 3ms/step - loss: 0.2491 - accuracy: 0.9540 - val_loss: 0.2652 - val_accuracy: 0.9400\n",
            "Epoch 14/15\n",
            "43/43 [==============================] - 0s 4ms/step - loss: 0.2256 - accuracy: 0.9584 - val_loss: 0.2493 - val_accuracy: 0.9422\n",
            "Epoch 15/15\n",
            "43/43 [==============================] - 0s 3ms/step - loss: 0.2067 - accuracy: 0.9592 - val_loss: 0.2297 - val_accuracy: 0.9422\n"
          ]
        }
      ],
      "source": [
        "fit_3 = model_3.fit(input_train, targets_train, epochs=n_epochs, validation_data=(input_test, targets_test))"
      ]
    },
    {
      "cell_type": "code",
      "execution_count": 283,
      "metadata": {
        "id": "YFomvYOJ5Fzu",
        "colab": {
          "base_uri": "https://localhost:8080/"
        },
        "outputId": "7a7cc37b-69d2-4c77-aef0-60f8a511f8c6"
      },
      "outputs": [
        {
          "output_type": "stream",
          "name": "stdout",
          "text": [
            "Epoch 1/15\n",
            "43/43 [==============================] - 1s 7ms/step - loss: 2.2694 - accuracy: 0.1247 - val_loss: 2.1632 - val_accuracy: 0.2067\n",
            "Epoch 2/15\n",
            "43/43 [==============================] - 0s 3ms/step - loss: 2.0612 - accuracy: 0.3356 - val_loss: 1.9759 - val_accuracy: 0.4222\n",
            "Epoch 3/15\n",
            "43/43 [==============================] - 0s 4ms/step - loss: 1.8766 - accuracy: 0.4915 - val_loss: 1.7970 - val_accuracy: 0.5578\n",
            "Epoch 4/15\n",
            "43/43 [==============================] - 0s 3ms/step - loss: 1.6999 - accuracy: 0.6088 - val_loss: 1.6221 - val_accuracy: 0.6422\n",
            "Epoch 5/15\n",
            "43/43 [==============================] - 0s 3ms/step - loss: 1.5259 - accuracy: 0.6845 - val_loss: 1.4547 - val_accuracy: 0.7267\n",
            "Epoch 6/15\n",
            "43/43 [==============================] - 0s 3ms/step - loss: 1.3600 - accuracy: 0.7402 - val_loss: 1.2940 - val_accuracy: 0.7533\n",
            "Epoch 7/15\n",
            "43/43 [==============================] - 0s 3ms/step - loss: 1.2005 - accuracy: 0.7921 - val_loss: 1.1434 - val_accuracy: 0.7778\n",
            "Epoch 8/15\n",
            "43/43 [==============================] - 0s 3ms/step - loss: 1.0551 - accuracy: 0.8278 - val_loss: 1.0131 - val_accuracy: 0.8178\n",
            "Epoch 9/15\n",
            "43/43 [==============================] - 0s 3ms/step - loss: 0.9282 - accuracy: 0.8478 - val_loss: 0.8967 - val_accuracy: 0.8333\n",
            "Epoch 10/15\n",
            "43/43 [==============================] - 0s 3ms/step - loss: 0.8222 - accuracy: 0.8664 - val_loss: 0.8041 - val_accuracy: 0.8533\n",
            "Epoch 11/15\n",
            "43/43 [==============================] - 0s 3ms/step - loss: 0.7294 - accuracy: 0.8797 - val_loss: 0.7246 - val_accuracy: 0.8511\n",
            "Epoch 12/15\n",
            "43/43 [==============================] - 0s 3ms/step - loss: 0.6527 - accuracy: 0.8894 - val_loss: 0.6572 - val_accuracy: 0.8756\n",
            "Epoch 13/15\n",
            "43/43 [==============================] - 0s 3ms/step - loss: 0.5855 - accuracy: 0.8976 - val_loss: 0.5954 - val_accuracy: 0.8800\n",
            "Epoch 14/15\n",
            "43/43 [==============================] - 0s 3ms/step - loss: 0.5290 - accuracy: 0.9072 - val_loss: 0.5501 - val_accuracy: 0.8778\n",
            "Epoch 15/15\n",
            "43/43 [==============================] - 0s 3ms/step - loss: 0.4827 - accuracy: 0.9124 - val_loss: 0.5072 - val_accuracy: 0.8822\n"
          ]
        }
      ],
      "source": [
        "fit_4 = model_4.fit(input_train, targets_train, epochs=n_epochs, validation_data=(input_test, targets_test))"
      ]
    },
    {
      "cell_type": "code",
      "execution_count": 284,
      "metadata": {
        "colab": {
          "base_uri": "https://localhost:8080/"
        },
        "id": "tNybUWS65JMX",
        "outputId": "a144f5f7-daa6-48a5-f058-6f6e500b8965"
      },
      "outputs": [
        {
          "output_type": "stream",
          "name": "stdout",
          "text": [
            "Epoch 1/15\n",
            "43/43 [==============================] - 1s 7ms/step - loss: 2.2552 - accuracy: 0.2272 - val_loss: 2.1014 - val_accuracy: 0.3044\n",
            "Epoch 2/15\n",
            "43/43 [==============================] - 0s 3ms/step - loss: 1.9500 - accuracy: 0.4172 - val_loss: 1.8252 - val_accuracy: 0.4844\n",
            "Epoch 3/15\n",
            "43/43 [==============================] - 0s 3ms/step - loss: 1.6739 - accuracy: 0.5746 - val_loss: 1.5515 - val_accuracy: 0.6333\n",
            "Epoch 4/15\n",
            "43/43 [==============================] - 0s 3ms/step - loss: 1.4032 - accuracy: 0.6993 - val_loss: 1.2928 - val_accuracy: 0.7444\n",
            "Epoch 5/15\n",
            "43/43 [==============================] - 0s 3ms/step - loss: 1.1606 - accuracy: 0.8018 - val_loss: 1.0744 - val_accuracy: 0.8022\n",
            "Epoch 6/15\n",
            "43/43 [==============================] - 0s 2ms/step - loss: 0.9604 - accuracy: 0.8471 - val_loss: 0.8935 - val_accuracy: 0.8644\n",
            "Epoch 7/15\n",
            "43/43 [==============================] - 0s 3ms/step - loss: 0.7984 - accuracy: 0.8805 - val_loss: 0.7552 - val_accuracy: 0.8711\n",
            "Epoch 8/15\n",
            "43/43 [==============================] - 0s 2ms/step - loss: 0.6752 - accuracy: 0.8938 - val_loss: 0.6518 - val_accuracy: 0.8756\n",
            "Epoch 9/15\n",
            "43/43 [==============================] - 0s 3ms/step - loss: 0.5817 - accuracy: 0.9050 - val_loss: 0.5686 - val_accuracy: 0.8889\n",
            "Epoch 10/15\n",
            "43/43 [==============================] - 0s 3ms/step - loss: 0.5082 - accuracy: 0.9065 - val_loss: 0.5078 - val_accuracy: 0.8911\n",
            "Epoch 11/15\n",
            "43/43 [==============================] - 0s 2ms/step - loss: 0.4492 - accuracy: 0.9161 - val_loss: 0.4596 - val_accuracy: 0.9022\n",
            "Epoch 12/15\n",
            "43/43 [==============================] - 0s 3ms/step - loss: 0.4001 - accuracy: 0.9228 - val_loss: 0.4104 - val_accuracy: 0.9111\n",
            "Epoch 13/15\n",
            "43/43 [==============================] - 0s 2ms/step - loss: 0.3603 - accuracy: 0.9339 - val_loss: 0.3847 - val_accuracy: 0.8978\n",
            "Epoch 14/15\n",
            "43/43 [==============================] - 0s 3ms/step - loss: 0.3278 - accuracy: 0.9384 - val_loss: 0.3468 - val_accuracy: 0.9289\n",
            "Epoch 15/15\n",
            "43/43 [==============================] - 0s 3ms/step - loss: 0.3001 - accuracy: 0.9391 - val_loss: 0.3241 - val_accuracy: 0.9222\n"
          ]
        }
      ],
      "source": [
        "fit_5 = model_5.fit(input_train, targets_train, epochs=n_epochs, validation_data=(input_test, targets_test))"
      ]
    },
    {
      "cell_type": "code",
      "execution_count": 285,
      "metadata": {
        "colab": {
          "base_uri": "https://localhost:8080/"
        },
        "id": "dwXuEZkV5MWt",
        "outputId": "1641447c-1ab9-4526-f7cb-51c0036dafc9"
      },
      "outputs": [
        {
          "output_type": "stream",
          "name": "stdout",
          "text": [
            "Epoch 1/15\n",
            "43/43 [==============================] - 1s 7ms/step - loss: 2.1001 - accuracy: 0.2992 - val_loss: 1.8862 - val_accuracy: 0.5200\n",
            "Epoch 2/15\n",
            "43/43 [==============================] - 0s 3ms/step - loss: 1.7499 - accuracy: 0.6199 - val_loss: 1.5939 - val_accuracy: 0.7044\n",
            "Epoch 3/15\n",
            "43/43 [==============================] - 0s 3ms/step - loss: 1.4614 - accuracy: 0.7654 - val_loss: 1.3181 - val_accuracy: 0.8333\n",
            "Epoch 4/15\n",
            "43/43 [==============================] - 0s 3ms/step - loss: 1.1928 - accuracy: 0.8404 - val_loss: 1.0652 - val_accuracy: 0.8756\n",
            "Epoch 5/15\n",
            "43/43 [==============================] - 0s 3ms/step - loss: 0.9544 - accuracy: 0.8812 - val_loss: 0.8618 - val_accuracy: 0.8978\n",
            "Epoch 6/15\n",
            "43/43 [==============================] - 0s 3ms/step - loss: 0.7605 - accuracy: 0.9027 - val_loss: 0.6960 - val_accuracy: 0.8933\n",
            "Epoch 7/15\n",
            "43/43 [==============================] - 0s 3ms/step - loss: 0.6108 - accuracy: 0.9131 - val_loss: 0.5785 - val_accuracy: 0.9133\n",
            "Epoch 8/15\n",
            "43/43 [==============================] - 0s 3ms/step - loss: 0.5041 - accuracy: 0.9272 - val_loss: 0.4929 - val_accuracy: 0.9133\n",
            "Epoch 9/15\n",
            "43/43 [==============================] - 0s 3ms/step - loss: 0.4228 - accuracy: 0.9369 - val_loss: 0.4214 - val_accuracy: 0.9244\n",
            "Epoch 10/15\n",
            "43/43 [==============================] - 0s 3ms/step - loss: 0.3635 - accuracy: 0.9406 - val_loss: 0.3722 - val_accuracy: 0.9289\n",
            "Epoch 11/15\n",
            "43/43 [==============================] - 0s 3ms/step - loss: 0.3175 - accuracy: 0.9436 - val_loss: 0.3432 - val_accuracy: 0.9244\n",
            "Epoch 12/15\n",
            "43/43 [==============================] - 0s 3ms/step - loss: 0.2845 - accuracy: 0.9488 - val_loss: 0.3184 - val_accuracy: 0.9311\n",
            "Epoch 13/15\n",
            "43/43 [==============================] - 0s 2ms/step - loss: 0.2577 - accuracy: 0.9517 - val_loss: 0.2889 - val_accuracy: 0.9356\n",
            "Epoch 14/15\n",
            "43/43 [==============================] - 0s 3ms/step - loss: 0.2341 - accuracy: 0.9525 - val_loss: 0.2724 - val_accuracy: 0.9311\n",
            "Epoch 15/15\n",
            "43/43 [==============================] - 0s 2ms/step - loss: 0.2171 - accuracy: 0.9607 - val_loss: 0.2523 - val_accuracy: 0.9444\n"
          ]
        }
      ],
      "source": [
        "fit_6 = model_6.fit(input_train, targets_train, epochs=n_epochs, validation_data=(input_test, targets_test))"
      ]
    },
    {
      "cell_type": "markdown",
      "metadata": {
        "id": "j1tc5ViKA3yB"
      },
      "source": [
        "---\n",
        "\n",
        "# **7. Genetic part and very first new sizes population**\n",
        "\n",
        "---"
      ]
    },
    {
      "cell_type": "code",
      "execution_count": 286,
      "metadata": {
        "id": "VpucNAf_Da4f"
      },
      "outputs": [],
      "source": [
        "def fitness_function(fit_1, fit_2, fit_3, fit_4, fit_5, fit_6):\n",
        "  fitness_list = []\n",
        "\n",
        "  model_1_loss = sum(fit_1.history['loss'])\n",
        "  model_2_loss = sum(fit_2.history['loss'])\n",
        "  model_3_loss = sum(fit_3.history['loss'])\n",
        "  model_4_loss = sum(fit_4.history['loss'])\n",
        "  model_5_loss = sum(fit_5.history['loss'])\n",
        "  model_6_loss = sum(fit_6.history['loss'])\n",
        "\n",
        "  fitness_list.append(model_1_loss)\n",
        "  fitness_list.append(model_2_loss)\n",
        "  fitness_list.append(model_3_loss)\n",
        "  fitness_list.append(model_4_loss)\n",
        "  fitness_list.append(model_5_loss)\n",
        "  fitness_list.append(model_6_loss)\n",
        "\n",
        "  return fitness_list"
      ]
    },
    {
      "cell_type": "code",
      "execution_count": 287,
      "metadata": {
        "colab": {
          "base_uri": "https://localhost:8080/"
        },
        "id": "7IOge3_9Dznc",
        "outputId": "6448b119-1a4b-4b7a-e4c0-097288600abe"
      },
      "outputs": [
        {
          "output_type": "stream",
          "name": "stdout",
          "text": [
            "model 1 loss: 8.120949909090996\n",
            "model 2 loss: 8.832607686519623\n",
            "model 3 loss: 11.390152722597122\n",
            "model 4 loss: 17.778234094381332\n",
            "model 5 loss: 13.804473102092743\n",
            "model 6 loss: 11.43119104206562\n",
            "average models loss: 11.892934759457907\n",
            "first population integers:\n",
            "[58, 54, 35, 12, 23, 37]\n",
            "1 - normalized fitnesses:\n",
            "[0.5432082924559106, 0.50317856995082, 0.35932035419665853, 0.0, 0.2235183185907348, 0.35701200797674526]\n"
          ]
        }
      ],
      "source": [
        "fitness_list = fitness_function(fit_1, fit_2, fit_3, fit_4, fit_5, fit_6)\n",
        "\n",
        "print(\"model 1 loss: \" + str(fitness_list[0]))\n",
        "print(\"model 2 loss: \" + str(fitness_list[1]))\n",
        "print(\"model 3 loss: \" + str(fitness_list[2]))\n",
        "print(\"model 4 loss: \" + str(fitness_list[3]))\n",
        "print(\"model 5 loss: \" + str(fitness_list[4]))\n",
        "print(\"model 6 loss: \" + str(fitness_list[5]))\n",
        "\n",
        "norm = [float(i)/max(fitness_list) for i in fitness_list]\n",
        "\n",
        "norm = [1 - i for i in norm]\n",
        "\n",
        "av = (fitness_list[0] + fitness_list[1] + fitness_list[2] + fitness_list[3] + fitness_list[4] + fitness_list[5]) / 6.0\n",
        "print(\"average models loss: \" + str(av))\n",
        "\n",
        "print(\"first population integers:\")\n",
        "print(first_population_integers)\n",
        "\n",
        "print(\"1 - normalized fitnesses:\")\n",
        "print(norm)"
      ]
    },
    {
      "cell_type": "code",
      "execution_count": 288,
      "metadata": {
        "id": "SiffT6DqA8Lu"
      },
      "outputs": [],
      "source": [
        "def calculate_probability_of_occurrence(fitness_list):\n",
        "    sum = 0.0\n",
        "\n",
        "    probabilities_list = []\n",
        "\n",
        "    for i in fitness_list:\n",
        "        sum += i\n",
        "\n",
        "    for i in range(len(fitness_list)):\n",
        "        probabilities_list.append(math.floor(fitness_list[i] / sum * 100))\n",
        "\n",
        "    return probabilities_list"
      ]
    },
    {
      "cell_type": "code",
      "execution_count": 289,
      "metadata": {
        "colab": {
          "base_uri": "https://localhost:8080/"
        },
        "id": "qTenOm5TEssp",
        "outputId": "d05559ef-7656-4260-9d4a-562d2937df42"
      },
      "outputs": [
        {
          "output_type": "execute_result",
          "data": {
            "text/plain": [
              "[27, 25, 18, 0, 11, 17]"
            ]
          },
          "metadata": {},
          "execution_count": 289
        }
      ],
      "source": [
        "probabilities_list = calculate_probability_of_occurrence(norm)\n",
        "\n",
        "probabilities_list"
      ]
    },
    {
      "cell_type": "code",
      "execution_count": 290,
      "metadata": {
        "id": "JhqLk4JARf31"
      },
      "outputs": [],
      "source": [
        "def generate_list_of_probabilities(probabilities_list, population_integers):\n",
        "    long_list = []\n",
        "\n",
        "    for i in range(len(population_integers)):\n",
        "        for j in range(probabilities_list[i]):\n",
        "            long_list.append(population_integers[i])\n",
        "\n",
        "    return long_list"
      ]
    },
    {
      "cell_type": "code",
      "execution_count": 291,
      "metadata": {
        "colab": {
          "base_uri": "https://localhost:8080/"
        },
        "id": "JDDqnCdIRkLc",
        "outputId": "60068533-20d9-4159-ed10-e15e08edd9b3"
      },
      "outputs": [
        {
          "output_type": "stream",
          "name": "stdout",
          "text": [
            "58 58 58 58 58 58 58 58 58 58 58 58 58 58 58 58 58 58 58 58 58 58 58 58 58 58 58 54 54 54 54 54 54 54 54 54 54 54 54 54 54 54 54 54 54 54 54 54 54 54 54 54 35 35 35 35 35 35 35 35 35 35 35 35 35 35 35 35 35 35 23 23 23 23 23 23 23 23 23 23 23 37 37 37 37 37 37 37 37 37 37 37 37 37 37 37 37 37\n"
          ]
        }
      ],
      "source": [
        "long_list = generate_list_of_probabilities(probabilities_list, first_population_integers)\n",
        "\n",
        "print(*long_list)"
      ]
    },
    {
      "cell_type": "code",
      "execution_count": 292,
      "metadata": {
        "id": "pGvdN_RiTvvk"
      },
      "outputs": [],
      "source": [
        "def crossover(first_parent, second_parent):\n",
        "    start_to_middle_len = random.randint(1, chromosome_length - 1)\n",
        "\n",
        "    middle_to_end_len = chromosome_length - start_to_middle_len\n",
        "\n",
        "    child = []\n",
        "\n",
        "    for i in range(start_to_middle_len):\n",
        "        child.append(first_parent[i])\n",
        "\n",
        "    for i in range(middle_to_end_len):\n",
        "        child.append(second_parent[i + start_to_middle_len])\n",
        "\n",
        "    return child"
      ]
    },
    {
      "cell_type": "code",
      "execution_count": 293,
      "metadata": {
        "id": "1TBWOyuBT1Dz"
      },
      "outputs": [],
      "source": [
        "def mutation(child):\n",
        "    for i in range(len(child)):\n",
        "        if random.random() < 0.1:\n",
        "            if child[i] == '0':\n",
        "                # print('0->1 at index: ' + str(i))\n",
        "                child[i] = '1'\n",
        "                break\n",
        "            else:\n",
        "                # print('1->0 at index: ' + str(i))\n",
        "                child[i] = '0'\n",
        "                break\n",
        "\n",
        "    return ''.join(child)"
      ]
    },
    {
      "cell_type": "code",
      "execution_count": 294,
      "metadata": {
        "id": "2BEcNIl4aLQn"
      },
      "outputs": [],
      "source": [
        "def generate_new_population(long_list):\n",
        "    new_population = []\n",
        "    for i in range(6):\n",
        "        first_parent = random.choice(long_list)\n",
        "        second_parent = random.choice(long_list)\n",
        "\n",
        "        while first_parent == second_parent:\n",
        "          second_parent = random.choice(long_list)\n",
        "\n",
        "        child = crossover(map[first_parent], map[second_parent])\n",
        "        new_population.append(mutation(child))\n",
        "    return new_population"
      ]
    },
    {
      "cell_type": "code",
      "execution_count": 295,
      "metadata": {
        "colab": {
          "base_uri": "https://localhost:8080/"
        },
        "id": "FzJtXJZ_aN7K",
        "outputId": "5f8bfbb5-1785-4069-8928-a5b5909747d9"
      },
      "outputs": [
        {
          "output_type": "stream",
          "name": "stdout",
          "text": [
            "['111010', '111011', '100001', '111110', '110111', '110110']\n",
            "[58, 59, 33, 62, 55, 54]\n",
            "{58: '111010', 59: '111011', 33: '100001', 62: '111110', 55: '110111', 54: '110110'}\n"
          ]
        }
      ],
      "source": [
        "new_population_strings = generate_new_population(long_list)\n",
        "\n",
        "new_population_integers = []\n",
        "\n",
        "for i in range(6):\n",
        "  new_population_integers.append(int(new_population_strings[i], 2))\n",
        "\n",
        "print(new_population_strings)\n",
        "print(new_population_integers)\n",
        "\n",
        "map.clear()\n",
        "\n",
        "for i in range(6):\n",
        "  map[new_population_integers[i]] = new_population_strings[i]\n",
        "\n",
        "print(map)"
      ]
    },
    {
      "cell_type": "markdown",
      "metadata": {
        "id": "RzStchSNgvfw"
      },
      "source": [
        "---\n",
        "\n",
        "# **8. Loop while?... -> just n iterations**\n",
        "\n",
        "---"
      ]
    },
    {
      "cell_type": "code",
      "execution_count": 296,
      "metadata": {
        "colab": {
          "base_uri": "https://localhost:8080/"
        },
        "id": "BhnCgenXg246",
        "outputId": "f3f09cbb-7635-480c-ee1f-1a846d5069f2"
      },
      "outputs": [
        {
          "output_type": "stream",
          "name": "stdout",
          "text": [
            "Epoch 1/15\n",
            "43/43 [==============================] - 2s 7ms/step - loss: 2.0783 - accuracy: 0.3816 - val_loss: 1.8079 - val_accuracy: 0.5489\n",
            "Epoch 2/15\n",
            "43/43 [==============================] - 0s 3ms/step - loss: 1.6026 - accuracy: 0.6852 - val_loss: 1.3830 - val_accuracy: 0.7711\n",
            "Epoch 3/15\n",
            "43/43 [==============================] - 0s 3ms/step - loss: 1.2043 - accuracy: 0.8270 - val_loss: 1.0338 - val_accuracy: 0.8467\n",
            "Epoch 4/15\n",
            "43/43 [==============================] - 0s 3ms/step - loss: 0.8945 - accuracy: 0.8753 - val_loss: 0.7841 - val_accuracy: 0.8778\n",
            "Epoch 5/15\n",
            "43/43 [==============================] - 0s 4ms/step - loss: 0.6782 - accuracy: 0.9013 - val_loss: 0.6225 - val_accuracy: 0.8867\n",
            "Epoch 6/15\n",
            "43/43 [==============================] - 0s 3ms/step - loss: 0.5343 - accuracy: 0.9161 - val_loss: 0.4996 - val_accuracy: 0.9156\n",
            "Epoch 7/15\n",
            "43/43 [==============================] - 0s 3ms/step - loss: 0.4299 - accuracy: 0.9243 - val_loss: 0.4149 - val_accuracy: 0.9200\n",
            "Epoch 8/15\n",
            "43/43 [==============================] - 0s 3ms/step - loss: 0.3589 - accuracy: 0.9354 - val_loss: 0.3547 - val_accuracy: 0.9156\n",
            "Epoch 9/15\n",
            "43/43 [==============================] - 0s 3ms/step - loss: 0.3058 - accuracy: 0.9406 - val_loss: 0.3144 - val_accuracy: 0.9200\n",
            "Epoch 10/15\n",
            "43/43 [==============================] - 0s 3ms/step - loss: 0.2672 - accuracy: 0.9465 - val_loss: 0.2850 - val_accuracy: 0.9311\n",
            "Epoch 11/15\n",
            "43/43 [==============================] - 0s 3ms/step - loss: 0.2364 - accuracy: 0.9510 - val_loss: 0.2668 - val_accuracy: 0.9289\n",
            "Epoch 12/15\n",
            "43/43 [==============================] - 0s 3ms/step - loss: 0.2138 - accuracy: 0.9555 - val_loss: 0.2582 - val_accuracy: 0.9244\n",
            "Epoch 13/15\n",
            "43/43 [==============================] - 0s 3ms/step - loss: 0.1967 - accuracy: 0.9592 - val_loss: 0.2265 - val_accuracy: 0.9444\n",
            "Epoch 14/15\n",
            "43/43 [==============================] - 0s 2ms/step - loss: 0.1813 - accuracy: 0.9577 - val_loss: 0.2276 - val_accuracy: 0.9333\n",
            "Epoch 15/15\n",
            "43/43 [==============================] - 0s 3ms/step - loss: 0.1670 - accuracy: 0.9703 - val_loss: 0.2168 - val_accuracy: 0.9378\n",
            "Epoch 1/15\n",
            "43/43 [==============================] - 1s 6ms/step - loss: 2.0438 - accuracy: 0.3860 - val_loss: 1.7691 - val_accuracy: 0.6933\n",
            "Epoch 2/15\n",
            "43/43 [==============================] - 0s 2ms/step - loss: 1.5569 - accuracy: 0.7699 - val_loss: 1.3465 - val_accuracy: 0.8089\n",
            "Epoch 3/15\n",
            "43/43 [==============================] - 0s 3ms/step - loss: 1.1622 - accuracy: 0.8523 - val_loss: 1.0031 - val_accuracy: 0.8689\n",
            "Epoch 4/15\n",
            "43/43 [==============================] - 0s 3ms/step - loss: 0.8532 - accuracy: 0.8916 - val_loss: 0.7528 - val_accuracy: 0.8800\n",
            "Epoch 5/15\n",
            "43/43 [==============================] - 0s 3ms/step - loss: 0.6382 - accuracy: 0.9109 - val_loss: 0.5703 - val_accuracy: 0.9133\n",
            "Epoch 6/15\n",
            "43/43 [==============================] - 0s 4ms/step - loss: 0.4910 - accuracy: 0.9250 - val_loss: 0.4569 - val_accuracy: 0.9178\n",
            "Epoch 7/15\n",
            "43/43 [==============================] - 0s 3ms/step - loss: 0.3963 - accuracy: 0.9310 - val_loss: 0.3953 - val_accuracy: 0.9089\n",
            "Epoch 8/15\n",
            "43/43 [==============================] - 0s 3ms/step - loss: 0.3304 - accuracy: 0.9406 - val_loss: 0.3398 - val_accuracy: 0.9356\n",
            "Epoch 9/15\n",
            "43/43 [==============================] - 0s 3ms/step - loss: 0.2829 - accuracy: 0.9503 - val_loss: 0.3051 - val_accuracy: 0.9244\n",
            "Epoch 10/15\n",
            "43/43 [==============================] - 0s 3ms/step - loss: 0.2515 - accuracy: 0.9525 - val_loss: 0.2676 - val_accuracy: 0.9356\n",
            "Epoch 11/15\n",
            "43/43 [==============================] - 0s 4ms/step - loss: 0.2209 - accuracy: 0.9540 - val_loss: 0.2447 - val_accuracy: 0.9356\n",
            "Epoch 12/15\n",
            "43/43 [==============================] - 0s 3ms/step - loss: 0.2006 - accuracy: 0.9577 - val_loss: 0.2281 - val_accuracy: 0.9444\n",
            "Epoch 13/15\n",
            "43/43 [==============================] - 0s 3ms/step - loss: 0.1801 - accuracy: 0.9666 - val_loss: 0.2196 - val_accuracy: 0.9400\n",
            "Epoch 14/15\n",
            "43/43 [==============================] - 0s 3ms/step - loss: 0.1652 - accuracy: 0.9673 - val_loss: 0.2015 - val_accuracy: 0.9511\n",
            "Epoch 15/15\n",
            "43/43 [==============================] - 0s 3ms/step - loss: 0.1510 - accuracy: 0.9651 - val_loss: 0.1952 - val_accuracy: 0.9467\n",
            "Epoch 1/15\n",
            "43/43 [==============================] - 1s 6ms/step - loss: 2.0613 - accuracy: 0.3385 - val_loss: 1.8652 - val_accuracy: 0.5422\n",
            "Epoch 2/15\n",
            "43/43 [==============================] - 0s 3ms/step - loss: 1.7322 - accuracy: 0.6132 - val_loss: 1.5825 - val_accuracy: 0.6422\n",
            "Epoch 3/15\n",
            "43/43 [==============================] - 0s 3ms/step - loss: 1.4409 - accuracy: 0.7120 - val_loss: 1.3116 - val_accuracy: 0.7200\n",
            "Epoch 4/15\n",
            "43/43 [==============================] - 0s 3ms/step - loss: 1.1768 - accuracy: 0.7780 - val_loss: 1.0689 - val_accuracy: 0.7844\n",
            "Epoch 5/15\n",
            "43/43 [==============================] - 0s 3ms/step - loss: 0.9588 - accuracy: 0.8263 - val_loss: 0.8774 - val_accuracy: 0.8178\n",
            "Epoch 6/15\n",
            "43/43 [==============================] - 0s 3ms/step - loss: 0.7833 - accuracy: 0.8523 - val_loss: 0.7241 - val_accuracy: 0.8622\n",
            "Epoch 7/15\n",
            "43/43 [==============================] - 0s 3ms/step - loss: 0.6495 - accuracy: 0.8812 - val_loss: 0.6207 - val_accuracy: 0.8711\n",
            "Epoch 8/15\n",
            "43/43 [==============================] - 0s 4ms/step - loss: 0.5444 - accuracy: 0.9065 - val_loss: 0.5376 - val_accuracy: 0.8933\n",
            "Epoch 9/15\n",
            "43/43 [==============================] - 0s 3ms/step - loss: 0.4656 - accuracy: 0.9139 - val_loss: 0.4604 - val_accuracy: 0.9156\n",
            "Epoch 10/15\n",
            "43/43 [==============================] - 0s 3ms/step - loss: 0.4053 - accuracy: 0.9272 - val_loss: 0.4092 - val_accuracy: 0.9178\n",
            "Epoch 11/15\n",
            "43/43 [==============================] - 0s 3ms/step - loss: 0.3577 - accuracy: 0.9317 - val_loss: 0.3727 - val_accuracy: 0.9222\n",
            "Epoch 12/15\n",
            "43/43 [==============================] - 0s 3ms/step - loss: 0.3188 - accuracy: 0.9362 - val_loss: 0.3498 - val_accuracy: 0.9156\n",
            "Epoch 13/15\n",
            "43/43 [==============================] - 0s 3ms/step - loss: 0.2879 - accuracy: 0.9443 - val_loss: 0.3073 - val_accuracy: 0.9333\n",
            "Epoch 14/15\n",
            "43/43 [==============================] - 0s 3ms/step - loss: 0.2614 - accuracy: 0.9465 - val_loss: 0.2848 - val_accuracy: 0.9356\n",
            "Epoch 15/15\n",
            "43/43 [==============================] - 0s 3ms/step - loss: 0.2388 - accuracy: 0.9517 - val_loss: 0.2675 - val_accuracy: 0.9356\n",
            "Epoch 1/15\n",
            "43/43 [==============================] - 1s 6ms/step - loss: 2.0219 - accuracy: 0.3905 - val_loss: 1.7145 - val_accuracy: 0.6467\n",
            "Epoch 2/15\n",
            "43/43 [==============================] - 0s 2ms/step - loss: 1.5032 - accuracy: 0.7788 - val_loss: 1.2719 - val_accuracy: 0.8133\n",
            "Epoch 3/15\n",
            "43/43 [==============================] - 0s 2ms/step - loss: 1.0982 - accuracy: 0.8641 - val_loss: 0.9232 - val_accuracy: 0.8889\n",
            "Epoch 4/15\n",
            "43/43 [==============================] - 0s 3ms/step - loss: 0.8028 - accuracy: 0.8946 - val_loss: 0.6981 - val_accuracy: 0.8867\n",
            "Epoch 5/15\n",
            "43/43 [==============================] - 0s 3ms/step - loss: 0.6032 - accuracy: 0.9139 - val_loss: 0.5431 - val_accuracy: 0.9178\n",
            "Epoch 6/15\n",
            "43/43 [==============================] - 0s 4ms/step - loss: 0.4657 - accuracy: 0.9243 - val_loss: 0.4257 - val_accuracy: 0.9333\n",
            "Epoch 7/15\n",
            "43/43 [==============================] - 0s 3ms/step - loss: 0.3758 - accuracy: 0.9317 - val_loss: 0.3543 - val_accuracy: 0.9333\n",
            "Epoch 8/15\n",
            "43/43 [==============================] - 0s 4ms/step - loss: 0.3101 - accuracy: 0.9465 - val_loss: 0.3138 - val_accuracy: 0.9333\n",
            "Epoch 9/15\n",
            "43/43 [==============================] - 0s 4ms/step - loss: 0.2653 - accuracy: 0.9517 - val_loss: 0.2768 - val_accuracy: 0.9400\n",
            "Epoch 10/15\n",
            "43/43 [==============================] - 0s 3ms/step - loss: 0.2317 - accuracy: 0.9547 - val_loss: 0.2493 - val_accuracy: 0.9400\n",
            "Epoch 11/15\n",
            "43/43 [==============================] - 0s 3ms/step - loss: 0.2050 - accuracy: 0.9621 - val_loss: 0.2322 - val_accuracy: 0.9422\n",
            "Epoch 12/15\n",
            "43/43 [==============================] - 0s 3ms/step - loss: 0.1843 - accuracy: 0.9621 - val_loss: 0.2128 - val_accuracy: 0.9511\n",
            "Epoch 13/15\n",
            "43/43 [==============================] - 0s 3ms/step - loss: 0.1674 - accuracy: 0.9636 - val_loss: 0.2093 - val_accuracy: 0.9489\n",
            "Epoch 14/15\n",
            "43/43 [==============================] - 0s 3ms/step - loss: 0.1549 - accuracy: 0.9718 - val_loss: 0.1900 - val_accuracy: 0.9511\n",
            "Epoch 15/15\n",
            "43/43 [==============================] - 0s 3ms/step - loss: 0.1441 - accuracy: 0.9710 - val_loss: 0.1782 - val_accuracy: 0.9622\n",
            "Epoch 1/15\n",
            "43/43 [==============================] - 1s 6ms/step - loss: 2.0617 - accuracy: 0.3504 - val_loss: 1.7579 - val_accuracy: 0.6356\n",
            "Epoch 2/15\n",
            "43/43 [==============================] - 0s 2ms/step - loss: 1.5550 - accuracy: 0.7201 - val_loss: 1.3172 - val_accuracy: 0.7711\n",
            "Epoch 3/15\n",
            "43/43 [==============================] - 0s 3ms/step - loss: 1.1556 - accuracy: 0.8092 - val_loss: 0.9744 - val_accuracy: 0.8556\n",
            "Epoch 4/15\n",
            "43/43 [==============================] - 0s 3ms/step - loss: 0.8497 - accuracy: 0.8782 - val_loss: 0.7245 - val_accuracy: 0.8978\n",
            "Epoch 5/15\n",
            "43/43 [==============================] - 0s 3ms/step - loss: 0.6404 - accuracy: 0.8990 - val_loss: 0.5703 - val_accuracy: 0.9000\n",
            "Epoch 6/15\n",
            "43/43 [==============================] - 0s 2ms/step - loss: 0.5060 - accuracy: 0.9176 - val_loss: 0.4578 - val_accuracy: 0.9222\n",
            "Epoch 7/15\n",
            "43/43 [==============================] - 0s 3ms/step - loss: 0.4079 - accuracy: 0.9265 - val_loss: 0.3867 - val_accuracy: 0.9244\n",
            "Epoch 8/15\n",
            "43/43 [==============================] - 0s 3ms/step - loss: 0.3419 - accuracy: 0.9354 - val_loss: 0.3327 - val_accuracy: 0.9267\n",
            "Epoch 9/15\n",
            "43/43 [==============================] - 0s 3ms/step - loss: 0.2914 - accuracy: 0.9465 - val_loss: 0.2972 - val_accuracy: 0.9378\n",
            "Epoch 10/15\n",
            "43/43 [==============================] - 0s 3ms/step - loss: 0.2563 - accuracy: 0.9532 - val_loss: 0.2629 - val_accuracy: 0.9489\n",
            "Epoch 11/15\n",
            "43/43 [==============================] - 0s 3ms/step - loss: 0.2271 - accuracy: 0.9510 - val_loss: 0.2405 - val_accuracy: 0.9444\n",
            "Epoch 12/15\n",
            "43/43 [==============================] - 0s 3ms/step - loss: 0.2022 - accuracy: 0.9592 - val_loss: 0.2275 - val_accuracy: 0.9444\n",
            "Epoch 13/15\n",
            "43/43 [==============================] - 0s 3ms/step - loss: 0.1846 - accuracy: 0.9607 - val_loss: 0.2089 - val_accuracy: 0.9533\n",
            "Epoch 14/15\n",
            "43/43 [==============================] - 0s 3ms/step - loss: 0.1690 - accuracy: 0.9644 - val_loss: 0.1959 - val_accuracy: 0.9578\n",
            "Epoch 15/15\n",
            "43/43 [==============================] - 0s 3ms/step - loss: 0.1534 - accuracy: 0.9673 - val_loss: 0.1877 - val_accuracy: 0.9556\n",
            "Epoch 1/15\n",
            "43/43 [==============================] - 1s 7ms/step - loss: 2.0954 - accuracy: 0.3022 - val_loss: 1.8174 - val_accuracy: 0.6289\n",
            "Epoch 2/15\n",
            "43/43 [==============================] - 0s 3ms/step - loss: 1.5970 - accuracy: 0.7313 - val_loss: 1.3877 - val_accuracy: 0.8111\n",
            "Epoch 3/15\n",
            "43/43 [==============================] - 0s 3ms/step - loss: 1.2096 - accuracy: 0.8448 - val_loss: 1.0580 - val_accuracy: 0.8467\n",
            "Epoch 4/15\n",
            "43/43 [==============================] - 0s 2ms/step - loss: 0.9061 - accuracy: 0.8812 - val_loss: 0.7948 - val_accuracy: 0.8644\n",
            "Epoch 5/15\n",
            "43/43 [==============================] - 0s 3ms/step - loss: 0.6815 - accuracy: 0.8946 - val_loss: 0.6121 - val_accuracy: 0.9022\n",
            "Epoch 6/15\n",
            "43/43 [==============================] - 0s 3ms/step - loss: 0.5296 - accuracy: 0.9183 - val_loss: 0.4898 - val_accuracy: 0.9178\n",
            "Epoch 7/15\n",
            "43/43 [==============================] - 0s 2ms/step - loss: 0.4215 - accuracy: 0.9317 - val_loss: 0.4078 - val_accuracy: 0.9200\n",
            "Epoch 8/15\n",
            "43/43 [==============================] - 0s 2ms/step - loss: 0.3504 - accuracy: 0.9414 - val_loss: 0.3562 - val_accuracy: 0.9200\n",
            "Epoch 9/15\n",
            "43/43 [==============================] - 0s 3ms/step - loss: 0.2990 - accuracy: 0.9451 - val_loss: 0.3194 - val_accuracy: 0.9267\n",
            "Epoch 10/15\n",
            "43/43 [==============================] - 0s 2ms/step - loss: 0.2640 - accuracy: 0.9488 - val_loss: 0.2835 - val_accuracy: 0.9378\n",
            "Epoch 11/15\n",
            "43/43 [==============================] - 0s 3ms/step - loss: 0.2339 - accuracy: 0.9547 - val_loss: 0.2618 - val_accuracy: 0.9333\n",
            "Epoch 12/15\n",
            "43/43 [==============================] - 0s 3ms/step - loss: 0.2091 - accuracy: 0.9562 - val_loss: 0.2395 - val_accuracy: 0.9378\n",
            "Epoch 13/15\n",
            "43/43 [==============================] - 0s 3ms/step - loss: 0.1899 - accuracy: 0.9629 - val_loss: 0.2223 - val_accuracy: 0.9400\n",
            "Epoch 14/15\n",
            "43/43 [==============================] - 0s 3ms/step - loss: 0.1730 - accuracy: 0.9651 - val_loss: 0.2212 - val_accuracy: 0.9356\n",
            "Epoch 15/15\n",
            "43/43 [==============================] - 0s 2ms/step - loss: 0.1603 - accuracy: 0.9681 - val_loss: 0.2083 - val_accuracy: 0.9378\n",
            "loop iteration 1:\n",
            "------------------------------------\n",
            "models sizes: [58, 59, 33, 62, 55, 54]\n",
            "\n",
            "model 1 loss: 9.349200800061226\n",
            "model 2 loss: 8.924047395586967\n",
            "model 3 loss: 11.682836785912514\n",
            "model 4 loss: 8.533689633011818\n",
            "model 5 loss: 9.002181828022003\n",
            "model 6 loss: 9.320043697953224\n",
            "average models loss: 9.468666690091291\n",
            "\n",
            "new population strings:\n",
            "['101010', '110110', '110010', '111110', '111100', '110110']\n",
            "new population integeers:\n",
            "[42, 54, 50, 62, 60, 54]\n",
            "map:\n",
            "{42: '101010', 54: '110110', 50: '110010', 62: '111110', 60: '111100'}\n",
            "------------------------------------\n",
            "Epoch 1/15\n",
            "43/43 [==============================] - 1s 7ms/step - loss: 2.0556 - accuracy: 0.3385 - val_loss: 1.8200 - val_accuracy: 0.6178\n",
            "Epoch 2/15\n",
            "43/43 [==============================] - 0s 3ms/step - loss: 1.6416 - accuracy: 0.7313 - val_loss: 1.4690 - val_accuracy: 0.7867\n",
            "Epoch 3/15\n",
            "43/43 [==============================] - 0s 3ms/step - loss: 1.3077 - accuracy: 0.8367 - val_loss: 1.1516 - val_accuracy: 0.8533\n",
            "Epoch 4/15\n",
            "43/43 [==============================] - 0s 3ms/step - loss: 1.0170 - accuracy: 0.8827 - val_loss: 0.8914 - val_accuracy: 0.9067\n",
            "Epoch 5/15\n",
            "43/43 [==============================] - 0s 3ms/step - loss: 0.7894 - accuracy: 0.8976 - val_loss: 0.7099 - val_accuracy: 0.8911\n",
            "Epoch 6/15\n",
            "43/43 [==============================] - 0s 3ms/step - loss: 0.6246 - accuracy: 0.9094 - val_loss: 0.5799 - val_accuracy: 0.8978\n",
            "Epoch 7/15\n",
            "43/43 [==============================] - 0s 3ms/step - loss: 0.5071 - accuracy: 0.9139 - val_loss: 0.4730 - val_accuracy: 0.9156\n",
            "Epoch 8/15\n",
            "43/43 [==============================] - 0s 3ms/step - loss: 0.4214 - accuracy: 0.9295 - val_loss: 0.4065 - val_accuracy: 0.9156\n",
            "Epoch 9/15\n",
            "43/43 [==============================] - 0s 3ms/step - loss: 0.3575 - accuracy: 0.9369 - val_loss: 0.3608 - val_accuracy: 0.9222\n",
            "Epoch 10/15\n",
            "43/43 [==============================] - 0s 4ms/step - loss: 0.3104 - accuracy: 0.9376 - val_loss: 0.3223 - val_accuracy: 0.9311\n",
            "Epoch 11/15\n",
            "43/43 [==============================] - 0s 5ms/step - loss: 0.2729 - accuracy: 0.9488 - val_loss: 0.2925 - val_accuracy: 0.9422\n",
            "Epoch 12/15\n",
            "43/43 [==============================] - 0s 4ms/step - loss: 0.2419 - accuracy: 0.9562 - val_loss: 0.2637 - val_accuracy: 0.9444\n",
            "Epoch 13/15\n",
            "43/43 [==============================] - 0s 4ms/step - loss: 0.2207 - accuracy: 0.9555 - val_loss: 0.2434 - val_accuracy: 0.9467\n",
            "Epoch 14/15\n",
            "43/43 [==============================] - 0s 5ms/step - loss: 0.2033 - accuracy: 0.9592 - val_loss: 0.2328 - val_accuracy: 0.9333\n",
            "Epoch 15/15\n",
            "43/43 [==============================] - 0s 4ms/step - loss: 0.1878 - accuracy: 0.9592 - val_loss: 0.2203 - val_accuracy: 0.9444\n",
            "Epoch 1/15\n",
            "43/43 [==============================] - 1s 8ms/step - loss: 1.9994 - accuracy: 0.4417 - val_loss: 1.6780 - val_accuracy: 0.6533\n",
            "Epoch 2/15\n",
            "43/43 [==============================] - 0s 2ms/step - loss: 1.4719 - accuracy: 0.7647 - val_loss: 1.2427 - val_accuracy: 0.8400\n",
            "Epoch 3/15\n",
            "43/43 [==============================] - 0s 3ms/step - loss: 1.0812 - accuracy: 0.8500 - val_loss: 0.9057 - val_accuracy: 0.8689\n",
            "Epoch 4/15\n",
            "43/43 [==============================] - 0s 2ms/step - loss: 0.7940 - accuracy: 0.8834 - val_loss: 0.6810 - val_accuracy: 0.9044\n",
            "Epoch 5/15\n",
            "43/43 [==============================] - 0s 3ms/step - loss: 0.6016 - accuracy: 0.9102 - val_loss: 0.5370 - val_accuracy: 0.9133\n",
            "Epoch 6/15\n",
            "43/43 [==============================] - 0s 2ms/step - loss: 0.4721 - accuracy: 0.9235 - val_loss: 0.4367 - val_accuracy: 0.9178\n",
            "Epoch 7/15\n",
            "43/43 [==============================] - 0s 3ms/step - loss: 0.3827 - accuracy: 0.9347 - val_loss: 0.3697 - val_accuracy: 0.9133\n",
            "Epoch 8/15\n",
            "43/43 [==============================] - 0s 3ms/step - loss: 0.3204 - accuracy: 0.9414 - val_loss: 0.3313 - val_accuracy: 0.9178\n",
            "Epoch 9/15\n",
            "43/43 [==============================] - 0s 2ms/step - loss: 0.2789 - accuracy: 0.9465 - val_loss: 0.2875 - val_accuracy: 0.9356\n",
            "Epoch 10/15\n",
            "43/43 [==============================] - 0s 2ms/step - loss: 0.2456 - accuracy: 0.9495 - val_loss: 0.2641 - val_accuracy: 0.9356\n",
            "Epoch 11/15\n",
            "43/43 [==============================] - 0s 3ms/step - loss: 0.2199 - accuracy: 0.9555 - val_loss: 0.2374 - val_accuracy: 0.9422\n",
            "Epoch 12/15\n",
            "43/43 [==============================] - 0s 3ms/step - loss: 0.1960 - accuracy: 0.9599 - val_loss: 0.2278 - val_accuracy: 0.9400\n",
            "Epoch 13/15\n",
            "43/43 [==============================] - 0s 3ms/step - loss: 0.1808 - accuracy: 0.9636 - val_loss: 0.2139 - val_accuracy: 0.9400\n",
            "Epoch 14/15\n",
            "43/43 [==============================] - 0s 2ms/step - loss: 0.1678 - accuracy: 0.9666 - val_loss: 0.1986 - val_accuracy: 0.9422\n",
            "Epoch 15/15\n",
            "43/43 [==============================] - 0s 3ms/step - loss: 0.1542 - accuracy: 0.9673 - val_loss: 0.1898 - val_accuracy: 0.9489\n",
            "Epoch 1/15\n",
            "43/43 [==============================] - 1s 6ms/step - loss: 1.9897 - accuracy: 0.3653 - val_loss: 1.6834 - val_accuracy: 0.6489\n",
            "Epoch 2/15\n",
            "43/43 [==============================] - 0s 3ms/step - loss: 1.4779 - accuracy: 0.7587 - val_loss: 1.2566 - val_accuracy: 0.8289\n",
            "Epoch 3/15\n",
            "43/43 [==============================] - 0s 3ms/step - loss: 1.0988 - accuracy: 0.8508 - val_loss: 0.9374 - val_accuracy: 0.8733\n",
            "Epoch 4/15\n",
            "43/43 [==============================] - 0s 3ms/step - loss: 0.8182 - accuracy: 0.8894 - val_loss: 0.7084 - val_accuracy: 0.8711\n",
            "Epoch 5/15\n",
            "43/43 [==============================] - 0s 3ms/step - loss: 0.6196 - accuracy: 0.9035 - val_loss: 0.5604 - val_accuracy: 0.9089\n",
            "Epoch 6/15\n",
            "43/43 [==============================] - 0s 3ms/step - loss: 0.4863 - accuracy: 0.9243 - val_loss: 0.4475 - val_accuracy: 0.9156\n",
            "Epoch 7/15\n",
            "43/43 [==============================] - 0s 3ms/step - loss: 0.3943 - accuracy: 0.9272 - val_loss: 0.3792 - val_accuracy: 0.9178\n",
            "Epoch 8/15\n",
            "43/43 [==============================] - 0s 3ms/step - loss: 0.3313 - accuracy: 0.9369 - val_loss: 0.3278 - val_accuracy: 0.9289\n",
            "Epoch 9/15\n",
            "43/43 [==============================] - 0s 3ms/step - loss: 0.2864 - accuracy: 0.9436 - val_loss: 0.2964 - val_accuracy: 0.9244\n",
            "Epoch 10/15\n",
            "43/43 [==============================] - 0s 3ms/step - loss: 0.2503 - accuracy: 0.9488 - val_loss: 0.2705 - val_accuracy: 0.9311\n",
            "Epoch 11/15\n",
            "43/43 [==============================] - 0s 4ms/step - loss: 0.2262 - accuracy: 0.9547 - val_loss: 0.2480 - val_accuracy: 0.9356\n",
            "Epoch 12/15\n",
            "43/43 [==============================] - 0s 4ms/step - loss: 0.2017 - accuracy: 0.9532 - val_loss: 0.2221 - val_accuracy: 0.9511\n",
            "Epoch 13/15\n",
            "43/43 [==============================] - 0s 3ms/step - loss: 0.1846 - accuracy: 0.9607 - val_loss: 0.2102 - val_accuracy: 0.9511\n",
            "Epoch 14/15\n",
            "43/43 [==============================] - 0s 4ms/step - loss: 0.1701 - accuracy: 0.9659 - val_loss: 0.1991 - val_accuracy: 0.9511\n",
            "Epoch 15/15\n",
            "43/43 [==============================] - 0s 4ms/step - loss: 0.1575 - accuracy: 0.9666 - val_loss: 0.1904 - val_accuracy: 0.9444\n",
            "Epoch 1/15\n",
            "43/43 [==============================] - 1s 7ms/step - loss: 2.0097 - accuracy: 0.3756 - val_loss: 1.6851 - val_accuracy: 0.7156\n",
            "Epoch 2/15\n",
            "43/43 [==============================] - 0s 4ms/step - loss: 1.4716 - accuracy: 0.7773 - val_loss: 1.2450 - val_accuracy: 0.8511\n",
            "Epoch 3/15\n",
            "43/43 [==============================] - 0s 3ms/step - loss: 1.0689 - accuracy: 0.8723 - val_loss: 0.8985 - val_accuracy: 0.8733\n",
            "Epoch 4/15\n",
            "43/43 [==============================] - 0s 3ms/step - loss: 0.7753 - accuracy: 0.8938 - val_loss: 0.6687 - val_accuracy: 0.9111\n",
            "Epoch 5/15\n",
            "43/43 [==============================] - 0s 3ms/step - loss: 0.5787 - accuracy: 0.9198 - val_loss: 0.5166 - val_accuracy: 0.9222\n",
            "Epoch 6/15\n",
            "43/43 [==============================] - 0s 3ms/step - loss: 0.4498 - accuracy: 0.9339 - val_loss: 0.4247 - val_accuracy: 0.9244\n",
            "Epoch 7/15\n",
            "43/43 [==============================] - 0s 4ms/step - loss: 0.3662 - accuracy: 0.9406 - val_loss: 0.3547 - val_accuracy: 0.9333\n",
            "Epoch 8/15\n",
            "43/43 [==============================] - 0s 3ms/step - loss: 0.3042 - accuracy: 0.9451 - val_loss: 0.3126 - val_accuracy: 0.9333\n",
            "Epoch 9/15\n",
            "43/43 [==============================] - 0s 4ms/step - loss: 0.2610 - accuracy: 0.9517 - val_loss: 0.2709 - val_accuracy: 0.9444\n",
            "Epoch 10/15\n",
            "43/43 [==============================] - 0s 3ms/step - loss: 0.2305 - accuracy: 0.9547 - val_loss: 0.2481 - val_accuracy: 0.9333\n",
            "Epoch 11/15\n",
            "43/43 [==============================] - 0s 4ms/step - loss: 0.2049 - accuracy: 0.9584 - val_loss: 0.2231 - val_accuracy: 0.9467\n",
            "Epoch 12/15\n",
            "43/43 [==============================] - 0s 3ms/step - loss: 0.1862 - accuracy: 0.9614 - val_loss: 0.2066 - val_accuracy: 0.9489\n",
            "Epoch 13/15\n",
            "43/43 [==============================] - 0s 3ms/step - loss: 0.1697 - accuracy: 0.9651 - val_loss: 0.1952 - val_accuracy: 0.9422\n",
            "Epoch 14/15\n",
            "43/43 [==============================] - 0s 3ms/step - loss: 0.1567 - accuracy: 0.9636 - val_loss: 0.1886 - val_accuracy: 0.9489\n",
            "Epoch 15/15\n",
            "43/43 [==============================] - 0s 3ms/step - loss: 0.1445 - accuracy: 0.9725 - val_loss: 0.1820 - val_accuracy: 0.9489\n",
            "Epoch 1/15\n",
            "43/43 [==============================] - 1s 7ms/step - loss: 2.0863 - accuracy: 0.3326 - val_loss: 1.7885 - val_accuracy: 0.6889\n",
            "Epoch 2/15\n",
            "43/43 [==============================] - 0s 3ms/step - loss: 1.5696 - accuracy: 0.7498 - val_loss: 1.3333 - val_accuracy: 0.8311\n",
            "Epoch 3/15\n",
            "43/43 [==============================] - 0s 3ms/step - loss: 1.1579 - accuracy: 0.8545 - val_loss: 0.9853 - val_accuracy: 0.8733\n",
            "Epoch 4/15\n",
            "43/43 [==============================] - 0s 3ms/step - loss: 0.8401 - accuracy: 0.8909 - val_loss: 0.7292 - val_accuracy: 0.9000\n",
            "Epoch 5/15\n",
            "43/43 [==============================] - 0s 3ms/step - loss: 0.6176 - accuracy: 0.9131 - val_loss: 0.5514 - val_accuracy: 0.9267\n",
            "Epoch 6/15\n",
            "43/43 [==============================] - 0s 3ms/step - loss: 0.4709 - accuracy: 0.9265 - val_loss: 0.4586 - val_accuracy: 0.9089\n",
            "Epoch 7/15\n",
            "43/43 [==============================] - 0s 3ms/step - loss: 0.3781 - accuracy: 0.9347 - val_loss: 0.3870 - val_accuracy: 0.9244\n",
            "Epoch 8/15\n",
            "43/43 [==============================] - 0s 3ms/step - loss: 0.3148 - accuracy: 0.9495 - val_loss: 0.3251 - val_accuracy: 0.9289\n",
            "Epoch 9/15\n",
            "43/43 [==============================] - 0s 4ms/step - loss: 0.2685 - accuracy: 0.9517 - val_loss: 0.2972 - val_accuracy: 0.9333\n",
            "Epoch 10/15\n",
            "43/43 [==============================] - 0s 4ms/step - loss: 0.2350 - accuracy: 0.9577 - val_loss: 0.2605 - val_accuracy: 0.9356\n",
            "Epoch 11/15\n",
            "43/43 [==============================] - 0s 3ms/step - loss: 0.2077 - accuracy: 0.9599 - val_loss: 0.2432 - val_accuracy: 0.9311\n",
            "Epoch 12/15\n",
            "43/43 [==============================] - 0s 3ms/step - loss: 0.1865 - accuracy: 0.9621 - val_loss: 0.2252 - val_accuracy: 0.9333\n",
            "Epoch 13/15\n",
            "43/43 [==============================] - 0s 3ms/step - loss: 0.1680 - accuracy: 0.9673 - val_loss: 0.2112 - val_accuracy: 0.9378\n",
            "Epoch 14/15\n",
            "43/43 [==============================] - 0s 3ms/step - loss: 0.1542 - accuracy: 0.9673 - val_loss: 0.2053 - val_accuracy: 0.9356\n",
            "Epoch 15/15\n",
            "43/43 [==============================] - 0s 3ms/step - loss: 0.1438 - accuracy: 0.9703 - val_loss: 0.1978 - val_accuracy: 0.9444\n",
            "Epoch 1/15\n",
            "43/43 [==============================] - 1s 6ms/step - loss: 2.0152 - accuracy: 0.4276 - val_loss: 1.7446 - val_accuracy: 0.6733\n",
            "Epoch 2/15\n",
            "43/43 [==============================] - 0s 3ms/step - loss: 1.5405 - accuracy: 0.7676 - val_loss: 1.3166 - val_accuracy: 0.8400\n",
            "Epoch 3/15\n",
            "43/43 [==============================] - 0s 3ms/step - loss: 1.1522 - accuracy: 0.8359 - val_loss: 0.9908 - val_accuracy: 0.8622\n",
            "Epoch 4/15\n",
            "43/43 [==============================] - 0s 3ms/step - loss: 0.8615 - accuracy: 0.8760 - val_loss: 0.7828 - val_accuracy: 0.8467\n",
            "Epoch 5/15\n",
            "43/43 [==============================] - 0s 2ms/step - loss: 0.6593 - accuracy: 0.8924 - val_loss: 0.5984 - val_accuracy: 0.8911\n",
            "Epoch 6/15\n",
            "43/43 [==============================] - 0s 3ms/step - loss: 0.5116 - accuracy: 0.9072 - val_loss: 0.4900 - val_accuracy: 0.8978\n",
            "Epoch 7/15\n",
            "43/43 [==============================] - 0s 3ms/step - loss: 0.4141 - accuracy: 0.9302 - val_loss: 0.4072 - val_accuracy: 0.9133\n",
            "Epoch 8/15\n",
            "43/43 [==============================] - 0s 3ms/step - loss: 0.3444 - accuracy: 0.9347 - val_loss: 0.3488 - val_accuracy: 0.9311\n",
            "Epoch 9/15\n",
            "43/43 [==============================] - 0s 3ms/step - loss: 0.2908 - accuracy: 0.9488 - val_loss: 0.3169 - val_accuracy: 0.9222\n",
            "Epoch 10/15\n",
            "43/43 [==============================] - 0s 3ms/step - loss: 0.2555 - accuracy: 0.9510 - val_loss: 0.2826 - val_accuracy: 0.9289\n",
            "Epoch 11/15\n",
            "43/43 [==============================] - 0s 3ms/step - loss: 0.2266 - accuracy: 0.9547 - val_loss: 0.2684 - val_accuracy: 0.9178\n",
            "Epoch 12/15\n",
            "43/43 [==============================] - 0s 3ms/step - loss: 0.2034 - accuracy: 0.9584 - val_loss: 0.2413 - val_accuracy: 0.9444\n",
            "Epoch 13/15\n",
            "43/43 [==============================] - 0s 3ms/step - loss: 0.1871 - accuracy: 0.9607 - val_loss: 0.2269 - val_accuracy: 0.9467\n",
            "Epoch 14/15\n",
            "43/43 [==============================] - 0s 3ms/step - loss: 0.1698 - accuracy: 0.9651 - val_loss: 0.2125 - val_accuracy: 0.9467\n",
            "Epoch 15/15\n",
            "43/43 [==============================] - 0s 3ms/step - loss: 0.1575 - accuracy: 0.9651 - val_loss: 0.2036 - val_accuracy: 0.9467\n",
            "loop iteration 2:\n",
            "------------------------------------\n",
            "models sizes: [42, 54, 50, 62, 60, 54]\n",
            "\n",
            "model 1 loss: 10.15880000591278\n",
            "model 2 loss: 8.566550567746162\n",
            "model 3 loss: 8.693083062767982\n",
            "model 4 loss: 8.377921253442764\n",
            "model 5 loss: 8.799159094691277\n",
            "model 6 loss: 8.989667773246765\n",
            "average models loss: 8.930863626301289\n",
            "\n",
            "new population strings:\n",
            "['110100', '010110', '111010', '110110', '110110', '100110']\n",
            "new population integeers:\n",
            "[52, 22, 58, 54, 54, 38]\n",
            "map:\n",
            "{52: '110100', 22: '010110', 58: '111010', 54: '110110', 38: '100110'}\n",
            "------------------------------------\n",
            "Epoch 1/15\n",
            "43/43 [==============================] - 1s 6ms/step - loss: 2.1483 - accuracy: 0.2606 - val_loss: 1.9038 - val_accuracy: 0.5400\n",
            "Epoch 2/15\n",
            "43/43 [==============================] - 0s 3ms/step - loss: 1.7218 - accuracy: 0.7075 - val_loss: 1.4856 - val_accuracy: 0.7978\n",
            "Epoch 3/15\n",
            "43/43 [==============================] - 0s 3ms/step - loss: 1.3145 - accuracy: 0.8285 - val_loss: 1.1245 - val_accuracy: 0.8733\n",
            "Epoch 4/15\n",
            "43/43 [==============================] - 0s 3ms/step - loss: 0.9907 - accuracy: 0.8842 - val_loss: 0.8477 - val_accuracy: 0.8822\n",
            "Epoch 5/15\n",
            "43/43 [==============================] - 0s 3ms/step - loss: 0.7502 - accuracy: 0.9027 - val_loss: 0.6557 - val_accuracy: 0.9022\n",
            "Epoch 6/15\n",
            "43/43 [==============================] - 0s 3ms/step - loss: 0.5859 - accuracy: 0.9146 - val_loss: 0.5392 - val_accuracy: 0.8978\n",
            "Epoch 7/15\n",
            "43/43 [==============================] - 0s 3ms/step - loss: 0.4718 - accuracy: 0.9220 - val_loss: 0.4412 - val_accuracy: 0.9178\n",
            "Epoch 8/15\n",
            "43/43 [==============================] - 0s 3ms/step - loss: 0.3875 - accuracy: 0.9287 - val_loss: 0.3797 - val_accuracy: 0.9133\n",
            "Epoch 9/15\n",
            "43/43 [==============================] - 0s 3ms/step - loss: 0.3274 - accuracy: 0.9317 - val_loss: 0.3343 - val_accuracy: 0.9267\n",
            "Epoch 10/15\n",
            "43/43 [==============================] - 0s 3ms/step - loss: 0.2861 - accuracy: 0.9399 - val_loss: 0.3089 - val_accuracy: 0.9222\n",
            "Epoch 11/15\n",
            "43/43 [==============================] - 0s 3ms/step - loss: 0.2528 - accuracy: 0.9436 - val_loss: 0.2739 - val_accuracy: 0.9244\n",
            "Epoch 12/15\n",
            "43/43 [==============================] - 0s 3ms/step - loss: 0.2259 - accuracy: 0.9532 - val_loss: 0.2628 - val_accuracy: 0.9267\n",
            "Epoch 13/15\n",
            "43/43 [==============================] - 0s 3ms/step - loss: 0.2053 - accuracy: 0.9540 - val_loss: 0.2396 - val_accuracy: 0.9378\n",
            "Epoch 14/15\n",
            "43/43 [==============================] - 0s 3ms/step - loss: 0.1889 - accuracy: 0.9569 - val_loss: 0.2272 - val_accuracy: 0.9467\n",
            "Epoch 15/15\n",
            "43/43 [==============================] - 0s 2ms/step - loss: 0.1737 - accuracy: 0.9584 - val_loss: 0.2232 - val_accuracy: 0.9356\n",
            "Epoch 1/15\n",
            "43/43 [==============================] - 1s 6ms/step - loss: 2.1766 - accuracy: 0.1878 - val_loss: 2.0086 - val_accuracy: 0.4089\n",
            "Epoch 2/15\n",
            "43/43 [==============================] - 0s 2ms/step - loss: 1.8913 - accuracy: 0.5152 - val_loss: 1.7419 - val_accuracy: 0.6489\n",
            "Epoch 3/15\n",
            "43/43 [==============================] - 0s 3ms/step - loss: 1.6255 - accuracy: 0.6875 - val_loss: 1.4857 - val_accuracy: 0.6844\n",
            "Epoch 4/15\n",
            "43/43 [==============================] - 0s 3ms/step - loss: 1.3781 - accuracy: 0.7661 - val_loss: 1.2486 - val_accuracy: 0.7289\n",
            "Epoch 5/15\n",
            "43/43 [==============================] - 0s 2ms/step - loss: 1.1497 - accuracy: 0.7825 - val_loss: 1.0409 - val_accuracy: 0.8133\n",
            "Epoch 6/15\n",
            "43/43 [==============================] - 0s 3ms/step - loss: 0.9603 - accuracy: 0.8382 - val_loss: 0.8655 - val_accuracy: 0.8511\n",
            "Epoch 7/15\n",
            "43/43 [==============================] - 0s 3ms/step - loss: 0.8046 - accuracy: 0.8582 - val_loss: 0.7406 - val_accuracy: 0.8644\n",
            "Epoch 8/15\n",
            "43/43 [==============================] - 0s 4ms/step - loss: 0.6854 - accuracy: 0.8820 - val_loss: 0.6311 - val_accuracy: 0.8867\n",
            "Epoch 9/15\n",
            "43/43 [==============================] - 0s 3ms/step - loss: 0.5864 - accuracy: 0.8938 - val_loss: 0.5429 - val_accuracy: 0.9000\n",
            "Epoch 10/15\n",
            "43/43 [==============================] - 0s 3ms/step - loss: 0.5100 - accuracy: 0.9087 - val_loss: 0.4750 - val_accuracy: 0.9111\n",
            "Epoch 11/15\n",
            "43/43 [==============================] - 0s 3ms/step - loss: 0.4492 - accuracy: 0.9176 - val_loss: 0.4276 - val_accuracy: 0.9200\n",
            "Epoch 12/15\n",
            "43/43 [==============================] - 0s 3ms/step - loss: 0.4002 - accuracy: 0.9243 - val_loss: 0.3833 - val_accuracy: 0.9267\n",
            "Epoch 13/15\n",
            "43/43 [==============================] - 0s 2ms/step - loss: 0.3587 - accuracy: 0.9235 - val_loss: 0.3472 - val_accuracy: 0.9333\n",
            "Epoch 14/15\n",
            "43/43 [==============================] - 0s 3ms/step - loss: 0.3247 - accuracy: 0.9332 - val_loss: 0.3205 - val_accuracy: 0.9400\n",
            "Epoch 15/15\n",
            "43/43 [==============================] - 0s 3ms/step - loss: 0.2974 - accuracy: 0.9399 - val_loss: 0.2995 - val_accuracy: 0.9311\n",
            "Epoch 1/15\n",
            "43/43 [==============================] - 1s 6ms/step - loss: 2.0298 - accuracy: 0.3489 - val_loss: 1.7288 - val_accuracy: 0.5956\n",
            "Epoch 2/15\n",
            "43/43 [==============================] - 0s 3ms/step - loss: 1.4988 - accuracy: 0.7298 - val_loss: 1.2732 - val_accuracy: 0.8222\n",
            "Epoch 3/15\n",
            "43/43 [==============================] - 0s 3ms/step - loss: 1.0805 - accuracy: 0.8471 - val_loss: 0.9243 - val_accuracy: 0.8556\n",
            "Epoch 4/15\n",
            "43/43 [==============================] - 0s 3ms/step - loss: 0.7874 - accuracy: 0.8834 - val_loss: 0.6809 - val_accuracy: 0.8889\n",
            "Epoch 5/15\n",
            "43/43 [==============================] - 0s 3ms/step - loss: 0.5861 - accuracy: 0.9087 - val_loss: 0.5263 - val_accuracy: 0.8978\n",
            "Epoch 6/15\n",
            "43/43 [==============================] - 0s 3ms/step - loss: 0.4551 - accuracy: 0.9213 - val_loss: 0.4354 - val_accuracy: 0.9044\n",
            "Epoch 7/15\n",
            "43/43 [==============================] - 0s 3ms/step - loss: 0.3708 - accuracy: 0.9302 - val_loss: 0.3683 - val_accuracy: 0.9244\n",
            "Epoch 8/15\n",
            "43/43 [==============================] - 0s 3ms/step - loss: 0.3111 - accuracy: 0.9369 - val_loss: 0.3282 - val_accuracy: 0.9289\n",
            "Epoch 9/15\n",
            "43/43 [==============================] - 0s 3ms/step - loss: 0.2701 - accuracy: 0.9503 - val_loss: 0.2912 - val_accuracy: 0.9333\n",
            "Epoch 10/15\n",
            "43/43 [==============================] - 0s 3ms/step - loss: 0.2353 - accuracy: 0.9532 - val_loss: 0.2670 - val_accuracy: 0.9311\n",
            "Epoch 11/15\n",
            "43/43 [==============================] - 0s 3ms/step - loss: 0.2092 - accuracy: 0.9592 - val_loss: 0.2381 - val_accuracy: 0.9400\n",
            "Epoch 12/15\n",
            "43/43 [==============================] - 0s 3ms/step - loss: 0.1889 - accuracy: 0.9629 - val_loss: 0.2325 - val_accuracy: 0.9400\n",
            "Epoch 13/15\n",
            "43/43 [==============================] - 0s 3ms/step - loss: 0.1721 - accuracy: 0.9614 - val_loss: 0.2203 - val_accuracy: 0.9467\n",
            "Epoch 14/15\n",
            "43/43 [==============================] - 0s 3ms/step - loss: 0.1579 - accuracy: 0.9688 - val_loss: 0.2092 - val_accuracy: 0.9444\n",
            "Epoch 15/15\n",
            "43/43 [==============================] - 0s 3ms/step - loss: 0.1457 - accuracy: 0.9740 - val_loss: 0.1917 - val_accuracy: 0.9467\n",
            "Epoch 1/15\n",
            "43/43 [==============================] - 1s 6ms/step - loss: 2.0458 - accuracy: 0.3771 - val_loss: 1.7413 - val_accuracy: 0.6356\n",
            "Epoch 2/15\n",
            "43/43 [==============================] - 0s 3ms/step - loss: 1.5616 - accuracy: 0.7090 - val_loss: 1.3359 - val_accuracy: 0.7733\n",
            "Epoch 3/15\n",
            "43/43 [==============================] - 0s 3ms/step - loss: 1.1789 - accuracy: 0.8263 - val_loss: 0.9923 - val_accuracy: 0.8378\n",
            "Epoch 4/15\n",
            "43/43 [==============================] - 0s 3ms/step - loss: 0.8744 - accuracy: 0.8716 - val_loss: 0.7442 - val_accuracy: 0.8911\n",
            "Epoch 5/15\n",
            "43/43 [==============================] - 0s 3ms/step - loss: 0.6617 - accuracy: 0.8998 - val_loss: 0.5801 - val_accuracy: 0.8844\n",
            "Epoch 6/15\n",
            "43/43 [==============================] - 0s 3ms/step - loss: 0.5178 - accuracy: 0.9139 - val_loss: 0.4644 - val_accuracy: 0.9133\n",
            "Epoch 7/15\n",
            "43/43 [==============================] - 0s 3ms/step - loss: 0.4212 - accuracy: 0.9220 - val_loss: 0.3960 - val_accuracy: 0.9333\n",
            "Epoch 8/15\n",
            "43/43 [==============================] - 0s 3ms/step - loss: 0.3543 - accuracy: 0.9310 - val_loss: 0.3453 - val_accuracy: 0.9267\n",
            "Epoch 9/15\n",
            "43/43 [==============================] - 0s 3ms/step - loss: 0.3051 - accuracy: 0.9391 - val_loss: 0.3010 - val_accuracy: 0.9400\n",
            "Epoch 10/15\n",
            "43/43 [==============================] - 0s 3ms/step - loss: 0.2655 - accuracy: 0.9436 - val_loss: 0.2878 - val_accuracy: 0.9333\n",
            "Epoch 11/15\n",
            "43/43 [==============================] - 0s 3ms/step - loss: 0.2350 - accuracy: 0.9473 - val_loss: 0.2489 - val_accuracy: 0.9489\n",
            "Epoch 12/15\n",
            "43/43 [==============================] - 0s 3ms/step - loss: 0.2129 - accuracy: 0.9510 - val_loss: 0.2331 - val_accuracy: 0.9467\n",
            "Epoch 13/15\n",
            "43/43 [==============================] - 0s 3ms/step - loss: 0.1928 - accuracy: 0.9607 - val_loss: 0.2270 - val_accuracy: 0.9422\n",
            "Epoch 14/15\n",
            "43/43 [==============================] - 0s 3ms/step - loss: 0.1783 - accuracy: 0.9644 - val_loss: 0.2177 - val_accuracy: 0.9422\n",
            "Epoch 15/15\n",
            "43/43 [==============================] - 0s 3ms/step - loss: 0.1659 - accuracy: 0.9607 - val_loss: 0.1953 - val_accuracy: 0.9533\n",
            "Epoch 1/15\n",
            "43/43 [==============================] - 1s 6ms/step - loss: 1.9516 - accuracy: 0.4120 - val_loss: 1.6931 - val_accuracy: 0.6489\n",
            "Epoch 2/15\n",
            "43/43 [==============================] - 0s 3ms/step - loss: 1.5017 - accuracy: 0.7120 - val_loss: 1.2844 - val_accuracy: 0.8067\n",
            "Epoch 3/15\n",
            "43/43 [==============================] - 0s 3ms/step - loss: 1.1215 - accuracy: 0.8515 - val_loss: 0.9471 - val_accuracy: 0.8822\n",
            "Epoch 4/15\n",
            "43/43 [==============================] - 0s 3ms/step - loss: 0.8239 - accuracy: 0.8916 - val_loss: 0.7094 - val_accuracy: 0.8911\n",
            "Epoch 5/15\n",
            "43/43 [==============================] - 0s 3ms/step - loss: 0.6134 - accuracy: 0.9065 - val_loss: 0.5423 - val_accuracy: 0.9156\n",
            "Epoch 6/15\n",
            "43/43 [==============================] - 0s 3ms/step - loss: 0.4767 - accuracy: 0.9228 - val_loss: 0.4403 - val_accuracy: 0.9133\n",
            "Epoch 7/15\n",
            "43/43 [==============================] - 0s 3ms/step - loss: 0.3826 - accuracy: 0.9347 - val_loss: 0.3763 - val_accuracy: 0.9156\n",
            "Epoch 8/15\n",
            "43/43 [==============================] - 0s 3ms/step - loss: 0.3209 - accuracy: 0.9399 - val_loss: 0.3256 - val_accuracy: 0.9267\n",
            "Epoch 9/15\n",
            "43/43 [==============================] - 0s 3ms/step - loss: 0.2742 - accuracy: 0.9473 - val_loss: 0.2862 - val_accuracy: 0.9311\n",
            "Epoch 10/15\n",
            "43/43 [==============================] - 0s 3ms/step - loss: 0.2412 - accuracy: 0.9540 - val_loss: 0.2649 - val_accuracy: 0.9356\n",
            "Epoch 11/15\n",
            "43/43 [==============================] - 0s 3ms/step - loss: 0.2132 - accuracy: 0.9577 - val_loss: 0.2433 - val_accuracy: 0.9356\n",
            "Epoch 12/15\n",
            "43/43 [==============================] - 0s 3ms/step - loss: 0.1903 - accuracy: 0.9621 - val_loss: 0.2188 - val_accuracy: 0.9422\n",
            "Epoch 13/15\n",
            "43/43 [==============================] - 0s 3ms/step - loss: 0.1719 - accuracy: 0.9696 - val_loss: 0.2055 - val_accuracy: 0.9444\n",
            "Epoch 14/15\n",
            "43/43 [==============================] - 0s 3ms/step - loss: 0.1576 - accuracy: 0.9651 - val_loss: 0.1924 - val_accuracy: 0.9511\n",
            "Epoch 15/15\n",
            "43/43 [==============================] - 0s 3ms/step - loss: 0.1464 - accuracy: 0.9703 - val_loss: 0.1790 - val_accuracy: 0.9556\n",
            "Epoch 1/15\n",
            "43/43 [==============================] - 1s 7ms/step - loss: 2.1138 - accuracy: 0.3244 - val_loss: 1.8774 - val_accuracy: 0.5467\n",
            "Epoch 2/15\n",
            "43/43 [==============================] - 0s 3ms/step - loss: 1.6927 - accuracy: 0.6377 - val_loss: 1.4545 - val_accuracy: 0.7600\n",
            "Epoch 3/15\n",
            "43/43 [==============================] - 0s 3ms/step - loss: 1.3044 - accuracy: 0.7832 - val_loss: 1.1423 - val_accuracy: 0.8178\n",
            "Epoch 4/15\n",
            "43/43 [==============================] - 0s 3ms/step - loss: 1.0139 - accuracy: 0.8671 - val_loss: 0.8786 - val_accuracy: 0.8822\n",
            "Epoch 5/15\n",
            "43/43 [==============================] - 0s 3ms/step - loss: 0.7918 - accuracy: 0.8797 - val_loss: 0.6980 - val_accuracy: 0.8911\n",
            "Epoch 6/15\n",
            "43/43 [==============================] - 0s 3ms/step - loss: 0.6258 - accuracy: 0.9020 - val_loss: 0.5695 - val_accuracy: 0.8933\n",
            "Epoch 7/15\n",
            "43/43 [==============================] - 0s 3ms/step - loss: 0.5099 - accuracy: 0.9079 - val_loss: 0.4772 - val_accuracy: 0.9178\n",
            "Epoch 8/15\n",
            "43/43 [==============================] - 0s 3ms/step - loss: 0.4266 - accuracy: 0.9243 - val_loss: 0.4070 - val_accuracy: 0.9200\n",
            "Epoch 9/15\n",
            "43/43 [==============================] - 0s 3ms/step - loss: 0.3629 - accuracy: 0.9324 - val_loss: 0.3633 - val_accuracy: 0.9133\n",
            "Epoch 10/15\n",
            "43/43 [==============================] - 0s 2ms/step - loss: 0.3170 - accuracy: 0.9354 - val_loss: 0.3261 - val_accuracy: 0.9178\n",
            "Epoch 11/15\n",
            "43/43 [==============================] - 0s 3ms/step - loss: 0.2813 - accuracy: 0.9399 - val_loss: 0.2958 - val_accuracy: 0.9311\n",
            "Epoch 12/15\n",
            "43/43 [==============================] - 0s 3ms/step - loss: 0.2530 - accuracy: 0.9480 - val_loss: 0.2756 - val_accuracy: 0.9378\n",
            "Epoch 13/15\n",
            "43/43 [==============================] - 0s 3ms/step - loss: 0.2303 - accuracy: 0.9495 - val_loss: 0.2536 - val_accuracy: 0.9400\n",
            "Epoch 14/15\n",
            "43/43 [==============================] - 0s 2ms/step - loss: 0.2100 - accuracy: 0.9547 - val_loss: 0.2392 - val_accuracy: 0.9422\n",
            "Epoch 15/15\n",
            "43/43 [==============================] - 0s 3ms/step - loss: 0.1943 - accuracy: 0.9599 - val_loss: 0.2244 - val_accuracy: 0.9467\n",
            "loop iteration 3:\n",
            "------------------------------------\n",
            "models sizes: [52, 22, 58, 54, 54, 38]\n",
            "\n",
            "model 1 loss: 10.030811458826065\n",
            "model 2 loss: 13.598149985074997\n",
            "model 3 loss: 8.498658433556557\n",
            "model 4 loss: 9.17132356762886\n",
            "model 5 loss: 8.587136298418045\n",
            "model 6 loss: 10.327760562300682\n",
            "average models loss: 10.035640050967535\n",
            "\n",
            "new population strings:\n",
            "['110101', '011010', '111110', '110010', '110110', '110100']\n",
            "new population integeers:\n",
            "[53, 26, 62, 50, 54, 52]\n",
            "map:\n",
            "{53: '110101', 26: '011010', 62: '111110', 50: '110010', 54: '110110', 52: '110100'}\n",
            "------------------------------------\n"
          ]
        }
      ],
      "source": [
        "n_iterations = 0\n",
        "\n",
        "new_population_integers_loop = new_population_integers\n",
        "\n",
        "while n_iterations < 3:\n",
        "  # MODEL 1\n",
        "  model_1_loop = models.Sequential()\n",
        "\n",
        "  if new_population_integers_loop[0] != 0:\n",
        "    model_1_loop.add(layers.Dense(new_population_integers_loop[0], activation='relu', name='hidden', input_dim=64))\n",
        "    model_1_loop.add(layers.Dense(10, activation='softmax', name='output'))\n",
        "  else:\n",
        "    model_1_loop.add(layers.Dense(10, activation='softmax', name='output', input_dim=64))\n",
        "\n",
        "  model_1_loop.compile(optimizer='rmsprop', loss='categorical_crossentropy', metrics=['accuracy'])\n",
        "\n",
        "  # MODEL 2\n",
        "  model_2_loop = models.Sequential()\n",
        "\n",
        "  if new_population_integers_loop[1] != 0:\n",
        "    model_2_loop.add(layers.Dense(new_population_integers_loop[1], activation='relu', name='hidden', input_dim=64))\n",
        "    model_2_loop.add(layers.Dense(10, activation='softmax', name='output'))\n",
        "  else:\n",
        "    model_2_loop.add(layers.Dense(10, activation='softmax', name='output', input_dim=64))\n",
        "\n",
        "  model_2_loop.compile(optimizer='rmsprop', loss='categorical_crossentropy', metrics=['accuracy'])\n",
        "\n",
        "  # MODEL 3\n",
        "  model_3_loop = models.Sequential()\n",
        "\n",
        "  if new_population_integers_loop[2] != 0:\n",
        "    model_3_loop.add(layers.Dense(new_population_integers_loop[2], activation='relu', name='hidden', input_dim=64))\n",
        "    model_3_loop.add(layers.Dense(10, activation='softmax', name='output'))\n",
        "  else:\n",
        "    model_3_loop.add(layers.Dense(10, activation='softmax', name='output', input_dim=64))\n",
        "\n",
        "  model_3_loop.compile(optimizer='rmsprop', loss='categorical_crossentropy', metrics=['accuracy'])\n",
        "\n",
        "  # MODEL 4\n",
        "  model_4_loop = models.Sequential()\n",
        "\n",
        "  if new_population_integers_loop[3] != 0:\n",
        "    model_4_loop.add(layers.Dense(new_population_integers_loop[3], activation='relu', name='hidden', input_dim=64))\n",
        "    model_4_loop.add(layers.Dense(10, activation='softmax', name='output'))\n",
        "  else:\n",
        "    model_4_loop.add(layers.Dense(10, activation='softmax', name='output', input_dim=64))\n",
        "\n",
        "  model_4_loop.compile(optimizer='rmsprop', loss='categorical_crossentropy', metrics=['accuracy'])\n",
        "\n",
        "  # MODEL 5\n",
        "  model_5_loop = models.Sequential()\n",
        "\n",
        "  if new_population_integers_loop[4] != 0:\n",
        "    model_5_loop.add(layers.Dense(new_population_integers_loop[4], activation='relu', name='hidden', input_dim=64))\n",
        "    model_5_loop.add(layers.Dense(10, activation='softmax', name='output'))\n",
        "  else:\n",
        "    model_5_loop.add(layers.Dense(10, activation='softmax', name='output', input_dim=64))\n",
        "\n",
        "  model_5_loop.compile(optimizer='rmsprop', loss='categorical_crossentropy', metrics=['accuracy'])\n",
        "\n",
        "  # MODEL 6\n",
        "  model_6_loop = models.Sequential()\n",
        "\n",
        "  if new_population_integers_loop[5] != 0:\n",
        "    model_6_loop.add(layers.Dense(new_population_integers_loop[5], activation='relu', name='hidden', input_dim=64))\n",
        "    model_6_loop.add(layers.Dense(10, activation='softmax', name='output'))\n",
        "  else:\n",
        "    model_6_loop.add(layers.Dense(10, activation='softmax', name='output', input_dim=64))\n",
        "\n",
        "  model_6_loop.compile(optimizer='rmsprop', loss='categorical_crossentropy', metrics=['accuracy'])\n",
        "\n",
        "  # FITTING ALL MODELS\n",
        "  fit_1_loop = model_1_loop.fit(input_train, targets_train, epochs=n_epochs, validation_data=(input_test, targets_test))\n",
        "  fit_2_loop = model_2_loop.fit(input_train, targets_train, epochs=n_epochs, validation_data=(input_test, targets_test))\n",
        "  fit_3_loop = model_3_loop.fit(input_train, targets_train, epochs=n_epochs, validation_data=(input_test, targets_test))\n",
        "  fit_4_loop = model_4_loop.fit(input_train, targets_train, epochs=n_epochs, validation_data=(input_test, targets_test))\n",
        "  fit_5_loop = model_5_loop.fit(input_train, targets_train, epochs=n_epochs, validation_data=(input_test, targets_test))\n",
        "  fit_6_loop = model_6_loop.fit(input_train, targets_train, epochs=n_epochs, validation_data=(input_test, targets_test))\n",
        "\n",
        "  # CALCULATING FITNESS FOR EVERY MODEL\n",
        "  fitness_list_loop = fitness_function(fit_1_loop, fit_2_loop, fit_3_loop, fit_4_loop, fit_5_loop, fit_6_loop)\n",
        "\n",
        "  # PRINTING LOSS SUM OF EVERY MODEL\n",
        "  model_1_loss = fitness_list_loop[0]\n",
        "  model_2_loss = fitness_list_loop[1]\n",
        "  model_3_loss = fitness_list_loop[2]\n",
        "  model_4_loss = fitness_list_loop[3]\n",
        "  model_5_loss = fitness_list_loop[4]\n",
        "  model_6_loss = fitness_list_loop[5]\n",
        "\n",
        "  print(\"loop iteration \" + str(n_iterations + 1) + \":\")\n",
        "  print(\"------------------------------------\")\n",
        "  print(\"models sizes: \" + str(new_population_integers_loop) + '\\n')\n",
        "  print(\"model 1 loss: \" + str(model_1_loss))\n",
        "  print(\"model 2 loss: \" + str(model_2_loss))\n",
        "  print(\"model 3 loss: \" + str(model_3_loss))\n",
        "  print(\"model 4 loss: \" + str(model_4_loss))\n",
        "  print(\"model 5 loss: \" + str(model_5_loss))\n",
        "  print(\"model 6 loss: \" + str(model_6_loss))\n",
        "\n",
        "  # CALCULATING AVERAGE MODELS LOSS\n",
        "  average = (model_1_loss + model_2_loss + model_3_loss + model_4_loss + model_5_loss + model_6_loss) / 6.0\n",
        "  print(\"average models loss: \" + str(average))\n",
        "\n",
        "  print()\n",
        "\n",
        "  # FITNESS LIST NORMALIZATION\n",
        "  norm_loop = [float(i)/max(fitness_list_loop) for i in fitness_list_loop]\n",
        "  norm_loop = [1 - i for i in norm_loop]\n",
        "\n",
        "  # PROBABILITIES LIST\n",
        "  probabilities_list_loop = calculate_probability_of_occurrence(norm_loop)\n",
        "  \n",
        "  # WE WILL RANDOMLY TAKE PARENTS FROM THIS LIST\n",
        "  long_list_loop = generate_list_of_probabilities(probabilities_list_loop, new_population_integers_loop)\n",
        "\n",
        "  # GENERATING NEW POPULATION\n",
        "  new_population_strings_loop = generate_new_population(long_list_loop)\n",
        "  new_population_integers_loop = []\n",
        "\n",
        "  for i in range(6):\n",
        "    new_population_integers_loop.append(int(new_population_strings_loop[i], 2))\n",
        "\n",
        "  print(\"new population strings:\")\n",
        "  print(new_population_strings_loop)\n",
        "\n",
        "  print(\"new population integeers:\")\n",
        "  print(new_population_integers_loop)\n",
        "\n",
        "  map.clear()\n",
        "\n",
        "  for i in range(6):\n",
        "    map[new_population_integers_loop[i]] = new_population_strings_loop[i]\n",
        "\n",
        "  print(\"map:\")\n",
        "  print(map)\n",
        "\n",
        "  print(\"------------------------------------\")\n",
        "\n",
        "  n_iterations += 1"
      ]
    }
  ],
  "metadata": {
    "colab": {
      "collapsed_sections": [],
      "name": "Zhdanovich_Genetic3.ipynb",
      "provenance": []
    },
    "kernelspec": {
      "display_name": "Python 3",
      "name": "python3"
    },
    "language_info": {
      "name": "python"
    }
  },
  "nbformat": 4,
  "nbformat_minor": 0
}